{
 "cells": [
  {
   "cell_type": "markdown",
   "metadata": {},
   "source": [
    "**Belinda Putri Adi Permana - 0706022210014**<br>\n",
    "Assigment for Coding for 8 Problems"
   ]
  },
  {
   "cell_type": "markdown",
   "metadata": {},
   "source": [
    "1. FACTORIAL"
   ]
  },
  {
   "cell_type": "code",
   "execution_count": 6,
   "metadata": {},
   "outputs": [
    {
     "name": "stdout",
     "output_type": "stream",
     "text": [
      "Hasil Faktorial: 3628800\n"
     ]
    }
   ],
   "source": [
    "def factorial(n):\n",
    "    if n == 0:\n",
    "        return 1\n",
    "    else:\n",
    "        return n * factorial(n-1)\n",
    "\n",
    "\n",
    "n = int(input(\"Input: \"))\n",
    "print(\"Hasil Faktorial: {}\".format(factorial(n)))"
   ]
  },
  {
   "cell_type": "markdown",
   "metadata": {},
   "source": [
    "2. FIBONACCI"
   ]
  },
  {
   "cell_type": "code",
   "execution_count": 7,
   "metadata": {},
   "outputs": [
    {
     "name": "stdout",
     "output_type": "stream",
     "text": [
      "Hasil Fibonacci : 21\n"
     ]
    }
   ],
   "source": [
    "def fibonacci(n):\n",
    "    if n == 1 or n == 2:\n",
    "        return 1\n",
    "    else:\n",
    "        return fibonacci(n - 1) + fibonacci(n - 2)\n",
    "\n",
    "\n",
    "n = int(input(\"Input: \"))\n",
    "print(\"Hasil Fibonacci : {}\".format(fibonacci(n)))  "
   ]
  },
  {
   "cell_type": "markdown",
   "metadata": {},
   "source": [
    "3. PALINDROME"
   ]
  },
  {
   "cell_type": "code",
   "execution_count": 23,
   "metadata": {},
   "outputs": [
    {
     "name": "stdout",
     "output_type": "stream",
     "text": [
      "'natan' adalah palindrom: True\n"
     ]
    }
   ],
   "source": [
    "def palindrome(s):\n",
    "    for i in range(len(s) // 2):\n",
    "        if s[i] != s[len(s) - i - 1]:\n",
    "            return False\n",
    "    return True\n",
    "\n",
    "input_string = input(\"Input: \")\n",
    "result = palindrome(input_string)\n",
    "print(f\"'{input_string}' adalah palindrom: {result}\")"
   ]
  },
  {
   "cell_type": "markdown",
   "metadata": {},
   "source": [
    "4. ENTROPY"
   ]
  },
  {
   "cell_type": "code",
   "execution_count": 21,
   "metadata": {},
   "outputs": [],
   "source": [
    "import math"
   ]
  },
  {
   "cell_type": "code",
   "execution_count": 24,
   "metadata": {},
   "outputs": [
    {
     "name": "stdout",
     "output_type": "stream",
     "text": [
      "Nilai Entropy = 1.0\n"
     ]
    }
   ],
   "source": [
    "def entropy(m, n):\n",
    "    if m == 0 or n == 0:  \n",
    "        return 0\n",
    "    p_m = m / (m + n)\n",
    "    p_n = n / (m + n)\n",
    "    return -(p_m * math.log2(p_m) + p_n * math.log2(p_n))\n",
    "\n",
    "print(f\"Nilai Entropy = {entropy(2, 2)}\")\n"
   ]
  },
  {
   "cell_type": "markdown",
   "metadata": {},
   "source": [
    "5. GINI"
   ]
  },
  {
   "cell_type": "code",
   "execution_count": 37,
   "metadata": {},
   "outputs": [
    {
     "name": "stdout",
     "output_type": "stream",
     "text": [
      "Nilai Gini Index = 0.31999999999999984\n"
     ]
    }
   ],
   "source": [
    "def gini(m,n):\n",
    "    if m == 0 or n == 0:\n",
    "        return 0\n",
    "    p_m = m / (m + n)\n",
    "    p_n = n / (m + n)\n",
    "    return 1 - ((p_m**2)+(p_n**2))\n",
    "\n",
    "print(f\"Nilai Gini Index = {gini(2, 8)}\")"
   ]
  },
  {
   "cell_type": "markdown",
   "metadata": {},
   "source": [
    "6. CLASSIFICATION ERROR"
   ]
  },
  {
   "cell_type": "code",
   "execution_count": 36,
   "metadata": {},
   "outputs": [
    {
     "name": "stdout",
     "output_type": "stream",
     "text": [
      "Nilai Classification Error = 0.2857142857142857\n"
     ]
    }
   ],
   "source": [
    "def classification_error(m,n):\n",
    "    if m == 0 or n == 0:\n",
    "        return 0\n",
    "    p_m = m/(m+n)\n",
    "    p_n = n/(n+m)\n",
    "    return 1 - (max(p_m, 1 - p_m))\n",
    "\n",
    "print(f\"Nilai Classification Error = {classification_error(2, 5)}\")"
   ]
  },
  {
   "cell_type": "markdown",
   "metadata": {},
   "source": [
    "7. GANJIL GENAP"
   ]
  },
  {
   "cell_type": "code",
   "execution_count": 41,
   "metadata": {},
   "outputs": [
    {
     "name": "stdout",
     "output_type": "stream",
     "text": [
      "Bilangan 6 adalah bilangan genap\n"
     ]
    }
   ],
   "source": [
    "def ganjil_genap(n):\n",
    "    if n % 2 == 0:\n",
    "        return \"genap\"\n",
    "    else:\n",
    "        return \"ganjil\"\n",
    "\n",
    "n = int(input(\"Input Angka: \"))    \n",
    "print(f\"Bilangan {n} adalah bilangan {ganjil_genap(n)}\")"
   ]
  },
  {
   "cell_type": "markdown",
   "metadata": {},
   "source": [
    "8. REVERSE WORD"
   ]
  },
  {
   "cell_type": "code",
   "execution_count": 52,
   "metadata": {},
   "outputs": [
    {
     "name": "stdout",
     "output_type": "stream",
     "text": [
      "Reversed string (loop): !dlrow ,olleH\n"
     ]
    }
   ],
   "source": [
    "def reverse_string_loop(input):\n",
    "    reversed_str = \"\"\n",
    "    for char in input:\n",
    "        reversed_str = char + reversed_str\n",
    "    return reversed_str\n",
    "\n",
    "input = \"Hello, world!\"\n",
    "reversed_string = reverse_string_loop(input)\n",
    "print(\"Reversed string (loop):\", reversed_string)\n"
   ]
  }
 ],
 "metadata": {
  "kernelspec": {
   "display_name": "base",
   "language": "python",
   "name": "python3"
  },
  "language_info": {
   "codemirror_mode": {
    "name": "ipython",
    "version": 3
   },
   "file_extension": ".py",
   "mimetype": "text/x-python",
   "name": "python",
   "nbconvert_exporter": "python",
   "pygments_lexer": "ipython3",
   "version": "3.11.4"
  }
 },
 "nbformat": 4,
 "nbformat_minor": 2
}
