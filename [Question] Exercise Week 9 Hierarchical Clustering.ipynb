{
 "cells": [
  {
   "cell_type": "markdown",
   "metadata": {
    "id": "WwPdHlwOFBXS"
   },
   "source": [
    "## Exercise 2 : Clustering Method\n",
    "In this exercise we will explore how each clustering algorithm discussed in the class works."
   ]
  },
  {
   "cell_type": "markdown",
   "metadata": {
    "id": "7_llGj-cFj11"
   },
   "source": [
    "### Import Library"
   ]
  },
  {
   "cell_type": "markdown",
   "metadata": {
    "id": "Q93i8D5M3orJ"
   },
   "source": [
    "Import the necessary libraries"
   ]
  },
  {
   "cell_type": "code",
   "execution_count": 48,
   "metadata": {
    "colab": {
     "base_uri": "https://localhost:8080/"
    },
    "executionInfo": {
     "elapsed": 3277,
     "status": "ok",
     "timestamp": 1731496477855,
     "user": {
      "displayName": "Michelle Chandra",
      "userId": "11686912257500406197"
     },
     "user_tz": -420
    },
    "id": "InthM3ox1VA1",
    "outputId": "8777559d-98a3-4b32-c5f6-198e97f173e0"
   },
   "outputs": [],
   "source": [
    "from kneed import KneeLocator\n",
    "import numpy as np\n",
    "import pandas as pd\n",
    "import seaborn as sns\n",
    "from sklearn.preprocessing import LabelEncoder, StandardScaler\n",
    "from matplotlib import pyplot as plt\n",
    "import scipy.cluster.hierarchy as sch\n",
    "from sklearn.cluster import AgglomerativeClustering, KMeans\n",
    "from scipy.cluster.hierarchy import fcluster, linkage, dendrogram\n",
    "from sklearn.metrics import davies_bouldin_score, silhouette_score"
   ]
  },
  {
   "cell_type": "markdown",
   "metadata": {
    "id": "hJ_0lJcgFrHB"
   },
   "source": [
    "### Load Dataset\n",
    "The dataset that we will use is a **Property Dataset**. In this dataset there will be 11 features including: <br>\n",
    "- Area Category,\n",
    "- Luas Tanah (m2),\n",
    "- Luas Bangunan (m2),\n",
    "- Jumlah Kamar,\n",
    "- Jumlah Kamar Mandi,\n",
    "- Tingkat/Lantai,\n",
    "- Harga Penawaran (dari Owner),\n",
    "- Terjual/Belum,\n",
    "- Arah Hadap Rumah,\n",
    "- Posisi Rumah,\n",
    "- Lebar Jalan Depan Rumah (ROW). <br>\n",
    "\n",
    "You can get the dataset from **Elearn**"
   ]
  },
  {
   "cell_type": "markdown",
   "metadata": {
    "id": "5kQApGMa30nv"
   },
   "source": [
    "Load dataset"
   ]
  },
  {
   "cell_type": "code",
   "execution_count": 49,
   "metadata": {
    "colab": {
     "base_uri": "https://localhost:8080/",
     "height": 310
    },
    "executionInfo": {
     "elapsed": 6,
     "status": "ok",
     "timestamp": 1731496477855,
     "user": {
      "displayName": "Michelle Chandra",
      "userId": "11686912257500406197"
     },
     "user_tz": -420
    },
    "id": "RSXKxZMJ32tQ",
    "outputId": "453a7529-eadd-48f3-d1d3-db13a09a4d0f"
   },
   "outputs": [
    {
     "data": {
      "text/html": [
       "<div>\n",
       "<style scoped>\n",
       "    .dataframe tbody tr th:only-of-type {\n",
       "        vertical-align: middle;\n",
       "    }\n",
       "\n",
       "    .dataframe tbody tr th {\n",
       "        vertical-align: top;\n",
       "    }\n",
       "\n",
       "    .dataframe thead th {\n",
       "        text-align: right;\n",
       "    }\n",
       "</style>\n",
       "<table border=\"1\" class=\"dataframe\">\n",
       "  <thead>\n",
       "    <tr style=\"text-align: right;\">\n",
       "      <th></th>\n",
       "      <th>Area Category</th>\n",
       "      <th>Nama Daerah</th>\n",
       "      <th>Luas Tanah (m2)</th>\n",
       "      <th>Luas Bangunan (m2)</th>\n",
       "      <th>Jumlah Kamar</th>\n",
       "      <th>Jumlah Kamar Mandi</th>\n",
       "      <th>Tingkat/Lantai</th>\n",
       "      <th>Harga Penawaran (dari Owner)</th>\n",
       "      <th>Terjual/Belum</th>\n",
       "      <th>Arah Hadap Rumah</th>\n",
       "      <th>Posisi Rumah</th>\n",
       "      <th>Lebar Jalan Depan Rumah (ROW)</th>\n",
       "    </tr>\n",
       "  </thead>\n",
       "  <tbody>\n",
       "    <tr>\n",
       "      <th>0</th>\n",
       "      <td>NaN</td>\n",
       "      <td>NaN</td>\n",
       "      <td>NaN</td>\n",
       "      <td>NaN</td>\n",
       "      <td>NaN</td>\n",
       "      <td>NaN</td>\n",
       "      <td>NaN</td>\n",
       "      <td>NaN</td>\n",
       "      <td>NaN</td>\n",
       "      <td>NaN</td>\n",
       "      <td>NaN</td>\n",
       "      <td>NaN</td>\n",
       "    </tr>\n",
       "    <tr>\n",
       "      <th>1</th>\n",
       "      <td>Below Standard</td>\n",
       "      <td>Setro Baru Utara</td>\n",
       "      <td>30.0</td>\n",
       "      <td>60.0</td>\n",
       "      <td>2.0</td>\n",
       "      <td>1.0</td>\n",
       "      <td>2.0</td>\n",
       "      <td>287799000</td>\n",
       "      <td>Belum</td>\n",
       "      <td>NaN</td>\n",
       "      <td>Standard</td>\n",
       "      <td>&lt; 1 Mobil</td>\n",
       "    </tr>\n",
       "    <tr>\n",
       "      <th>2</th>\n",
       "      <td>Standard</td>\n",
       "      <td>Kenjeran</td>\n",
       "      <td>170.0</td>\n",
       "      <td>170.0</td>\n",
       "      <td>5.0</td>\n",
       "      <td>4.0</td>\n",
       "      <td>2.0</td>\n",
       "      <td>2699999999</td>\n",
       "      <td>Belum</td>\n",
       "      <td>Selatan</td>\n",
       "      <td>Cul De Sac/Ujung Gang Buntu</td>\n",
       "      <td>1-2 Mobil</td>\n",
       "    </tr>\n",
       "    <tr>\n",
       "      <th>3</th>\n",
       "      <td>Sangat Premium</td>\n",
       "      <td>Kenjeran</td>\n",
       "      <td>187.0</td>\n",
       "      <td>250.0</td>\n",
       "      <td>5.0</td>\n",
       "      <td>5.0</td>\n",
       "      <td>2.0</td>\n",
       "      <td>3100000000</td>\n",
       "      <td>Belum</td>\n",
       "      <td>Utara</td>\n",
       "      <td>Standard</td>\n",
       "      <td>1-2 Mobil</td>\n",
       "    </tr>\n",
       "    <tr>\n",
       "      <th>4</th>\n",
       "      <td>Premium</td>\n",
       "      <td>Kenjeran</td>\n",
       "      <td>350.0</td>\n",
       "      <td>600.0</td>\n",
       "      <td>5.0</td>\n",
       "      <td>5.0</td>\n",
       "      <td>2.0</td>\n",
       "      <td>5000000000</td>\n",
       "      <td>Belum</td>\n",
       "      <td>Barat</td>\n",
       "      <td>Standard</td>\n",
       "      <td>1-2 Mobil</td>\n",
       "    </tr>\n",
       "  </tbody>\n",
       "</table>\n",
       "</div>"
      ],
      "text/plain": [
       "    Area Category       Nama Daerah  Luas Tanah (m2)  Luas Bangunan (m2)  \\\n",
       "0             NaN               NaN              NaN                 NaN   \n",
       "1  Below Standard  Setro Baru Utara             30.0                60.0   \n",
       "2        Standard          Kenjeran            170.0               170.0   \n",
       "3  Sangat Premium          Kenjeran            187.0               250.0   \n",
       "4         Premium          Kenjeran            350.0               600.0   \n",
       "\n",
       "   Jumlah Kamar  Jumlah Kamar Mandi  Tingkat/Lantai   \\\n",
       "0           NaN                 NaN              NaN   \n",
       "1           2.0                 1.0              2.0   \n",
       "2           5.0                 4.0              2.0   \n",
       "3           5.0                 5.0              2.0   \n",
       "4           5.0                 5.0              2.0   \n",
       "\n",
       "  Harga Penawaran (dari Owner) Terjual/Belum Arah Hadap Rumah  \\\n",
       "0                          NaN           NaN              NaN   \n",
       "1                    287799000         Belum              NaN   \n",
       "2                   2699999999         Belum          Selatan   \n",
       "3                   3100000000         Belum            Utara   \n",
       "4                   5000000000         Belum            Barat   \n",
       "\n",
       "                  Posisi Rumah Lebar Jalan Depan Rumah (ROW)  \n",
       "0                          NaN                           NaN  \n",
       "1                     Standard                     < 1 Mobil  \n",
       "2  Cul De Sac/Ujung Gang Buntu                     1-2 Mobil  \n",
       "3                     Standard                     1-2 Mobil  \n",
       "4                     Standard                     1-2 Mobil  "
      ]
     },
     "execution_count": 49,
     "metadata": {},
     "output_type": "execute_result"
    }
   ],
   "source": [
    "url = r'https://raw.githubusercontent.com/belinda2201/Data-Mining/refs/heads/main/property_dataset.csv'\n",
    "df = pd.read_csv(url)\n",
    "df.head()"
   ]
  },
  {
   "cell_type": "code",
   "execution_count": 50,
   "metadata": {
    "colab": {
     "base_uri": "https://localhost:8080/",
     "height": 300
    },
    "executionInfo": {
     "elapsed": 561,
     "status": "ok",
     "timestamp": 1731496550939,
     "user": {
      "displayName": "Michelle Chandra",
      "userId": "11686912257500406197"
     },
     "user_tz": -420
    },
    "id": "REIB_55O6dWa",
    "outputId": "847788e1-2922-4caf-a253-0c89650891c9"
   },
   "outputs": [
    {
     "data": {
      "text/html": [
       "<div>\n",
       "<style scoped>\n",
       "    .dataframe tbody tr th:only-of-type {\n",
       "        vertical-align: middle;\n",
       "    }\n",
       "\n",
       "    .dataframe tbody tr th {\n",
       "        vertical-align: top;\n",
       "    }\n",
       "\n",
       "    .dataframe thead th {\n",
       "        text-align: right;\n",
       "    }\n",
       "</style>\n",
       "<table border=\"1\" class=\"dataframe\">\n",
       "  <thead>\n",
       "    <tr style=\"text-align: right;\">\n",
       "      <th></th>\n",
       "      <th>Luas Tanah (m2)</th>\n",
       "      <th>Luas Bangunan (m2)</th>\n",
       "      <th>Jumlah Kamar</th>\n",
       "      <th>Jumlah Kamar Mandi</th>\n",
       "      <th>Tingkat/Lantai</th>\n",
       "    </tr>\n",
       "  </thead>\n",
       "  <tbody>\n",
       "    <tr>\n",
       "      <th>count</th>\n",
       "      <td>307.000000</td>\n",
       "      <td>307.000000</td>\n",
       "      <td>307.000000</td>\n",
       "      <td>306.000000</td>\n",
       "      <td>306.000000</td>\n",
       "    </tr>\n",
       "    <tr>\n",
       "      <th>mean</th>\n",
       "      <td>226.908795</td>\n",
       "      <td>266.579805</td>\n",
       "      <td>4.276873</td>\n",
       "      <td>3.339869</td>\n",
       "      <td>1.856209</td>\n",
       "    </tr>\n",
       "    <tr>\n",
       "      <th>std</th>\n",
       "      <td>202.149571</td>\n",
       "      <td>213.501196</td>\n",
       "      <td>1.646412</td>\n",
       "      <td>1.632311</td>\n",
       "      <td>0.512702</td>\n",
       "    </tr>\n",
       "    <tr>\n",
       "      <th>min</th>\n",
       "      <td>14.000000</td>\n",
       "      <td>14.000000</td>\n",
       "      <td>1.000000</td>\n",
       "      <td>1.000000</td>\n",
       "      <td>1.000000</td>\n",
       "    </tr>\n",
       "    <tr>\n",
       "      <th>25%</th>\n",
       "      <td>96.000000</td>\n",
       "      <td>120.000000</td>\n",
       "      <td>3.000000</td>\n",
       "      <td>2.000000</td>\n",
       "      <td>2.000000</td>\n",
       "    </tr>\n",
       "    <tr>\n",
       "      <th>50%</th>\n",
       "      <td>162.000000</td>\n",
       "      <td>200.000000</td>\n",
       "      <td>4.000000</td>\n",
       "      <td>3.000000</td>\n",
       "      <td>2.000000</td>\n",
       "    </tr>\n",
       "    <tr>\n",
       "      <th>75%</th>\n",
       "      <td>286.000000</td>\n",
       "      <td>332.500000</td>\n",
       "      <td>5.000000</td>\n",
       "      <td>4.000000</td>\n",
       "      <td>2.000000</td>\n",
       "    </tr>\n",
       "    <tr>\n",
       "      <th>max</th>\n",
       "      <td>1561.000000</td>\n",
       "      <td>1200.000000</td>\n",
       "      <td>13.000000</td>\n",
       "      <td>13.000000</td>\n",
       "      <td>4.000000</td>\n",
       "    </tr>\n",
       "  </tbody>\n",
       "</table>\n",
       "</div>"
      ],
      "text/plain": [
       "       Luas Tanah (m2)  Luas Bangunan (m2)  Jumlah Kamar  Jumlah Kamar Mandi  \\\n",
       "count       307.000000          307.000000    307.000000          306.000000   \n",
       "mean        226.908795          266.579805      4.276873            3.339869   \n",
       "std         202.149571          213.501196      1.646412            1.632311   \n",
       "min          14.000000           14.000000      1.000000            1.000000   \n",
       "25%          96.000000          120.000000      3.000000            2.000000   \n",
       "50%         162.000000          200.000000      4.000000            3.000000   \n",
       "75%         286.000000          332.500000      5.000000            4.000000   \n",
       "max        1561.000000         1200.000000     13.000000           13.000000   \n",
       "\n",
       "       Tingkat/Lantai   \n",
       "count       306.000000  \n",
       "mean          1.856209  \n",
       "std           0.512702  \n",
       "min           1.000000  \n",
       "25%           2.000000  \n",
       "50%           2.000000  \n",
       "75%           2.000000  \n",
       "max           4.000000  "
      ]
     },
     "execution_count": 50,
     "metadata": {},
     "output_type": "execute_result"
    }
   ],
   "source": [
    "df.describe()"
   ]
  },
  {
   "cell_type": "code",
   "execution_count": 51,
   "metadata": {
    "colab": {
     "base_uri": "https://localhost:8080/"
    },
    "executionInfo": {
     "elapsed": 2,
     "status": "ok",
     "timestamp": 1731496551311,
     "user": {
      "displayName": "Michelle Chandra",
      "userId": "11686912257500406197"
     },
     "user_tz": -420
    },
    "id": "4qGn83IJAK1V",
    "outputId": "77bc5ddc-fe65-4de6-fa5f-e96556ee37fe"
   },
   "outputs": [
    {
     "name": "stdout",
     "output_type": "stream",
     "text": [
      "<class 'pandas.core.frame.DataFrame'>\n",
      "RangeIndex: 308 entries, 0 to 307\n",
      "Data columns (total 12 columns):\n",
      " #   Column                         Non-Null Count  Dtype  \n",
      "---  ------                         --------------  -----  \n",
      " 0   Area Category                  307 non-null    object \n",
      " 1   Nama Daerah                    307 non-null    object \n",
      " 2   Luas Tanah (m2)                307 non-null    float64\n",
      " 3   Luas Bangunan (m2)             307 non-null    float64\n",
      " 4   Jumlah Kamar                   307 non-null    float64\n",
      " 5   Jumlah Kamar Mandi             306 non-null    float64\n",
      " 6   Tingkat/Lantai                 306 non-null    float64\n",
      " 7   Harga Penawaran (dari Owner)   307 non-null    object \n",
      " 8   Terjual/Belum                  307 non-null    object \n",
      " 9   Arah Hadap Rumah               225 non-null    object \n",
      " 10  Posisi Rumah                   192 non-null    object \n",
      " 11  Lebar Jalan Depan Rumah (ROW)  266 non-null    object \n",
      "dtypes: float64(5), object(7)\n",
      "memory usage: 29.0+ KB\n"
     ]
    }
   ],
   "source": [
    "df.info()"
   ]
  },
  {
   "cell_type": "markdown",
   "metadata": {
    "id": "wLpmamec9jig"
   },
   "source": [
    "Data Preparation\n",
    "\n",
    "1. Check if there are any missing values in the data.\n",
    "2. Check the percentage of null values.\n",
    "3. Perform label encoding.\n",
    "4. Apply feature scaling to the data."
   ]
  },
  {
   "cell_type": "markdown",
   "metadata": {
    "id": "Q4p9ra1JRDdn"
   },
   "source": [
    "1."
   ]
  },
  {
   "cell_type": "code",
   "execution_count": 52,
   "metadata": {
    "colab": {
     "base_uri": "https://localhost:8080/",
     "height": 460
    },
    "executionInfo": {
     "elapsed": 4,
     "status": "ok",
     "timestamp": 1731496552406,
     "user": {
      "displayName": "Michelle Chandra",
      "userId": "11686912257500406197"
     },
     "user_tz": -420
    },
    "id": "fAfk6XsgLeVl",
    "outputId": "59b49d65-89fe-411a-ca9e-1d0f0b5b8962"
   },
   "outputs": [
    {
     "data": {
      "text/plain": [
       "Area Category                      1\n",
       "Nama Daerah                        1\n",
       "Luas Tanah (m2)                    1\n",
       "Luas Bangunan (m2)                 1\n",
       "Jumlah Kamar                       1\n",
       "Jumlah Kamar Mandi                 2\n",
       "Tingkat/Lantai                     2\n",
       "Harga Penawaran (dari Owner)       1\n",
       "Terjual/Belum                      1\n",
       "Arah Hadap Rumah                  83\n",
       "Posisi Rumah                     116\n",
       "Lebar Jalan Depan Rumah (ROW)     42\n",
       "dtype: int64"
      ]
     },
     "execution_count": 52,
     "metadata": {},
     "output_type": "execute_result"
    }
   ],
   "source": [
    "df.isnull().sum()"
   ]
  },
  {
   "cell_type": "markdown",
   "metadata": {
    "id": "TML3jiamRF_U"
   },
   "source": [
    "2."
   ]
  },
  {
   "cell_type": "code",
   "execution_count": 53,
   "metadata": {},
   "outputs": [
    {
     "data": {
      "text/plain": [
       "Area Category                     0.324675\n",
       "Nama Daerah                       0.324675\n",
       "Luas Tanah (m2)                   0.324675\n",
       "Luas Bangunan (m2)                0.324675\n",
       "Jumlah Kamar                      0.324675\n",
       "Jumlah Kamar Mandi                0.649351\n",
       "Tingkat/Lantai                    0.649351\n",
       "Harga Penawaran (dari Owner)      0.324675\n",
       "Terjual/Belum                     0.324675\n",
       "Arah Hadap Rumah                 26.948052\n",
       "Posisi Rumah                     37.662338\n",
       "Lebar Jalan Depan Rumah (ROW)    13.636364\n",
       "dtype: float64"
      ]
     },
     "execution_count": 53,
     "metadata": {},
     "output_type": "execute_result"
    }
   ],
   "source": [
    "null_percentage = df.isnull().mean() * 100\n",
    "null_percentage"
   ]
  },
  {
   "cell_type": "markdown",
   "metadata": {
    "id": "-KzjgP9fAzBk"
   },
   "source": [
    "Since there are too many nulls but not up to 50%, it’s better to fill them in using SimpleImputer with the strategy set to 'most_frequent'"
   ]
  },
  {
   "cell_type": "code",
   "execution_count": 54,
   "metadata": {
    "colab": {
     "base_uri": "https://localhost:8080/",
     "height": 310
    },
    "executionInfo": {
     "elapsed": 444,
     "status": "ok",
     "timestamp": 1731496630814,
     "user": {
      "displayName": "Michelle Chandra",
      "userId": "11686912257500406197"
     },
     "user_tz": -420
    },
    "id": "pG9CYi3C7Iq9",
    "outputId": "79f3c6d9-380b-47a1-f55b-100240986af1"
   },
   "outputs": [
    {
     "data": {
      "text/html": [
       "<div>\n",
       "<style scoped>\n",
       "    .dataframe tbody tr th:only-of-type {\n",
       "        vertical-align: middle;\n",
       "    }\n",
       "\n",
       "    .dataframe tbody tr th {\n",
       "        vertical-align: top;\n",
       "    }\n",
       "\n",
       "    .dataframe thead th {\n",
       "        text-align: right;\n",
       "    }\n",
       "</style>\n",
       "<table border=\"1\" class=\"dataframe\">\n",
       "  <thead>\n",
       "    <tr style=\"text-align: right;\">\n",
       "      <th></th>\n",
       "      <th>Area Category</th>\n",
       "      <th>Nama Daerah</th>\n",
       "      <th>Luas Tanah (m2)</th>\n",
       "      <th>Luas Bangunan (m2)</th>\n",
       "      <th>Jumlah Kamar</th>\n",
       "      <th>Jumlah Kamar Mandi</th>\n",
       "      <th>Tingkat/Lantai</th>\n",
       "      <th>Harga Penawaran (dari Owner)</th>\n",
       "      <th>Terjual/Belum</th>\n",
       "      <th>Arah Hadap Rumah</th>\n",
       "      <th>Posisi Rumah</th>\n",
       "      <th>Lebar Jalan Depan Rumah (ROW)</th>\n",
       "    </tr>\n",
       "  </thead>\n",
       "  <tbody>\n",
       "    <tr>\n",
       "      <th>0</th>\n",
       "      <td>Standard</td>\n",
       "      <td>Citraland</td>\n",
       "      <td>240.0</td>\n",
       "      <td>300.0</td>\n",
       "      <td>4.0</td>\n",
       "      <td>3.0</td>\n",
       "      <td>2.0</td>\n",
       "      <td>3500000000</td>\n",
       "      <td>Belum</td>\n",
       "      <td>Utara</td>\n",
       "      <td>Standard</td>\n",
       "      <td>1-2 Mobil</td>\n",
       "    </tr>\n",
       "    <tr>\n",
       "      <th>1</th>\n",
       "      <td>Below Standard</td>\n",
       "      <td>Setro Baru Utara</td>\n",
       "      <td>30.0</td>\n",
       "      <td>60.0</td>\n",
       "      <td>2.0</td>\n",
       "      <td>1.0</td>\n",
       "      <td>2.0</td>\n",
       "      <td>287799000</td>\n",
       "      <td>Belum</td>\n",
       "      <td>Utara</td>\n",
       "      <td>Standard</td>\n",
       "      <td>&lt; 1 Mobil</td>\n",
       "    </tr>\n",
       "    <tr>\n",
       "      <th>2</th>\n",
       "      <td>Standard</td>\n",
       "      <td>Kenjeran</td>\n",
       "      <td>170.0</td>\n",
       "      <td>170.0</td>\n",
       "      <td>5.0</td>\n",
       "      <td>4.0</td>\n",
       "      <td>2.0</td>\n",
       "      <td>2699999999</td>\n",
       "      <td>Belum</td>\n",
       "      <td>Selatan</td>\n",
       "      <td>Cul De Sac/Ujung Gang Buntu</td>\n",
       "      <td>1-2 Mobil</td>\n",
       "    </tr>\n",
       "    <tr>\n",
       "      <th>3</th>\n",
       "      <td>Sangat Premium</td>\n",
       "      <td>Kenjeran</td>\n",
       "      <td>187.0</td>\n",
       "      <td>250.0</td>\n",
       "      <td>5.0</td>\n",
       "      <td>5.0</td>\n",
       "      <td>2.0</td>\n",
       "      <td>3100000000</td>\n",
       "      <td>Belum</td>\n",
       "      <td>Utara</td>\n",
       "      <td>Standard</td>\n",
       "      <td>1-2 Mobil</td>\n",
       "    </tr>\n",
       "    <tr>\n",
       "      <th>4</th>\n",
       "      <td>Premium</td>\n",
       "      <td>Kenjeran</td>\n",
       "      <td>350.0</td>\n",
       "      <td>600.0</td>\n",
       "      <td>5.0</td>\n",
       "      <td>5.0</td>\n",
       "      <td>2.0</td>\n",
       "      <td>5000000000</td>\n",
       "      <td>Belum</td>\n",
       "      <td>Barat</td>\n",
       "      <td>Standard</td>\n",
       "      <td>1-2 Mobil</td>\n",
       "    </tr>\n",
       "  </tbody>\n",
       "</table>\n",
       "</div>"
      ],
      "text/plain": [
       "    Area Category       Nama Daerah  Luas Tanah (m2)  Luas Bangunan (m2)  \\\n",
       "0        Standard         Citraland            240.0               300.0   \n",
       "1  Below Standard  Setro Baru Utara             30.0                60.0   \n",
       "2        Standard          Kenjeran            170.0               170.0   \n",
       "3  Sangat Premium          Kenjeran            187.0               250.0   \n",
       "4         Premium          Kenjeran            350.0               600.0   \n",
       "\n",
       "   Jumlah Kamar  Jumlah Kamar Mandi  Tingkat/Lantai   \\\n",
       "0           4.0                 3.0              2.0   \n",
       "1           2.0                 1.0              2.0   \n",
       "2           5.0                 4.0              2.0   \n",
       "3           5.0                 5.0              2.0   \n",
       "4           5.0                 5.0              2.0   \n",
       "\n",
       "  Harga Penawaran (dari Owner) Terjual/Belum Arah Hadap Rumah  \\\n",
       "0                   3500000000         Belum            Utara   \n",
       "1                    287799000         Belum            Utara   \n",
       "2                   2699999999         Belum          Selatan   \n",
       "3                   3100000000         Belum            Utara   \n",
       "4                   5000000000         Belum            Barat   \n",
       "\n",
       "                  Posisi Rumah Lebar Jalan Depan Rumah (ROW)  \n",
       "0                     Standard                     1-2 Mobil  \n",
       "1                     Standard                     < 1 Mobil  \n",
       "2  Cul De Sac/Ujung Gang Buntu                     1-2 Mobil  \n",
       "3                     Standard                     1-2 Mobil  \n",
       "4                     Standard                     1-2 Mobil  "
      ]
     },
     "execution_count": 54,
     "metadata": {},
     "output_type": "execute_result"
    }
   ],
   "source": [
    "from sklearn.impute import SimpleImputer\n",
    "imputer = SimpleImputer(strategy='most_frequent')\n",
    "df[:] = imputer.fit_transform(df)\n",
    "df.head()"
   ]
  },
  {
   "cell_type": "code",
   "execution_count": 55,
   "metadata": {
    "colab": {
     "base_uri": "https://localhost:8080/",
     "height": 460
    },
    "executionInfo": {
     "elapsed": 351,
     "status": "ok",
     "timestamp": 1731496641490,
     "user": {
      "displayName": "Michelle Chandra",
      "userId": "11686912257500406197"
     },
     "user_tz": -420
    },
    "id": "P39tcuz77l4m",
    "outputId": "5e315972-a4ed-4ab6-c112-fb498b129b04"
   },
   "outputs": [
    {
     "data": {
      "text/plain": [
       "Area Category                    0\n",
       "Nama Daerah                      0\n",
       "Luas Tanah (m2)                  0\n",
       "Luas Bangunan (m2)               0\n",
       "Jumlah Kamar                     0\n",
       "Jumlah Kamar Mandi               0\n",
       "Tingkat/Lantai                   0\n",
       "Harga Penawaran (dari Owner)     0\n",
       "Terjual/Belum                    0\n",
       "Arah Hadap Rumah                 0\n",
       "Posisi Rumah                     0\n",
       "Lebar Jalan Depan Rumah (ROW)    0\n",
       "dtype: int64"
      ]
     },
     "execution_count": 55,
     "metadata": {},
     "output_type": "execute_result"
    }
   ],
   "source": [
    "df.isnull().sum()"
   ]
  },
  {
   "cell_type": "markdown",
   "metadata": {
    "id": "bX3c5v9bCx67"
   },
   "source": [
    "Drop the column 'Nama Daerah' because all the values are different."
   ]
  },
  {
   "cell_type": "code",
   "execution_count": 56,
   "metadata": {
    "colab": {
     "base_uri": "https://localhost:8080/",
     "height": 293
    },
    "executionInfo": {
     "elapsed": 360,
     "status": "ok",
     "timestamp": 1731496652788,
     "user": {
      "displayName": "Michelle Chandra",
      "userId": "11686912257500406197"
     },
     "user_tz": -420
    },
    "id": "XBrU-DGYCkND",
    "outputId": "a5cb08a9-baa0-4524-aa0d-e24045ac43db"
   },
   "outputs": [
    {
     "data": {
      "text/html": [
       "<div>\n",
       "<style scoped>\n",
       "    .dataframe tbody tr th:only-of-type {\n",
       "        vertical-align: middle;\n",
       "    }\n",
       "\n",
       "    .dataframe tbody tr th {\n",
       "        vertical-align: top;\n",
       "    }\n",
       "\n",
       "    .dataframe thead th {\n",
       "        text-align: right;\n",
       "    }\n",
       "</style>\n",
       "<table border=\"1\" class=\"dataframe\">\n",
       "  <thead>\n",
       "    <tr style=\"text-align: right;\">\n",
       "      <th></th>\n",
       "      <th>Area Category</th>\n",
       "      <th>Luas Tanah (m2)</th>\n",
       "      <th>Luas Bangunan (m2)</th>\n",
       "      <th>Jumlah Kamar</th>\n",
       "      <th>Jumlah Kamar Mandi</th>\n",
       "      <th>Tingkat/Lantai</th>\n",
       "      <th>Harga Penawaran (dari Owner)</th>\n",
       "      <th>Terjual/Belum</th>\n",
       "      <th>Arah Hadap Rumah</th>\n",
       "      <th>Posisi Rumah</th>\n",
       "      <th>Lebar Jalan Depan Rumah (ROW)</th>\n",
       "    </tr>\n",
       "  </thead>\n",
       "  <tbody>\n",
       "    <tr>\n",
       "      <th>0</th>\n",
       "      <td>Standard</td>\n",
       "      <td>240.0</td>\n",
       "      <td>300.0</td>\n",
       "      <td>4.0</td>\n",
       "      <td>3.0</td>\n",
       "      <td>2.0</td>\n",
       "      <td>3500000000</td>\n",
       "      <td>Belum</td>\n",
       "      <td>Utara</td>\n",
       "      <td>Standard</td>\n",
       "      <td>1-2 Mobil</td>\n",
       "    </tr>\n",
       "    <tr>\n",
       "      <th>1</th>\n",
       "      <td>Below Standard</td>\n",
       "      <td>30.0</td>\n",
       "      <td>60.0</td>\n",
       "      <td>2.0</td>\n",
       "      <td>1.0</td>\n",
       "      <td>2.0</td>\n",
       "      <td>287799000</td>\n",
       "      <td>Belum</td>\n",
       "      <td>Utara</td>\n",
       "      <td>Standard</td>\n",
       "      <td>&lt; 1 Mobil</td>\n",
       "    </tr>\n",
       "    <tr>\n",
       "      <th>2</th>\n",
       "      <td>Standard</td>\n",
       "      <td>170.0</td>\n",
       "      <td>170.0</td>\n",
       "      <td>5.0</td>\n",
       "      <td>4.0</td>\n",
       "      <td>2.0</td>\n",
       "      <td>2699999999</td>\n",
       "      <td>Belum</td>\n",
       "      <td>Selatan</td>\n",
       "      <td>Cul De Sac/Ujung Gang Buntu</td>\n",
       "      <td>1-2 Mobil</td>\n",
       "    </tr>\n",
       "    <tr>\n",
       "      <th>3</th>\n",
       "      <td>Sangat Premium</td>\n",
       "      <td>187.0</td>\n",
       "      <td>250.0</td>\n",
       "      <td>5.0</td>\n",
       "      <td>5.0</td>\n",
       "      <td>2.0</td>\n",
       "      <td>3100000000</td>\n",
       "      <td>Belum</td>\n",
       "      <td>Utara</td>\n",
       "      <td>Standard</td>\n",
       "      <td>1-2 Mobil</td>\n",
       "    </tr>\n",
       "    <tr>\n",
       "      <th>4</th>\n",
       "      <td>Premium</td>\n",
       "      <td>350.0</td>\n",
       "      <td>600.0</td>\n",
       "      <td>5.0</td>\n",
       "      <td>5.0</td>\n",
       "      <td>2.0</td>\n",
       "      <td>5000000000</td>\n",
       "      <td>Belum</td>\n",
       "      <td>Barat</td>\n",
       "      <td>Standard</td>\n",
       "      <td>1-2 Mobil</td>\n",
       "    </tr>\n",
       "  </tbody>\n",
       "</table>\n",
       "</div>"
      ],
      "text/plain": [
       "    Area Category  Luas Tanah (m2)  Luas Bangunan (m2)  Jumlah Kamar  \\\n",
       "0        Standard            240.0               300.0           4.0   \n",
       "1  Below Standard             30.0                60.0           2.0   \n",
       "2        Standard            170.0               170.0           5.0   \n",
       "3  Sangat Premium            187.0               250.0           5.0   \n",
       "4         Premium            350.0               600.0           5.0   \n",
       "\n",
       "   Jumlah Kamar Mandi  Tingkat/Lantai  Harga Penawaran (dari Owner)  \\\n",
       "0                 3.0              2.0                   3500000000   \n",
       "1                 1.0              2.0                    287799000   \n",
       "2                 4.0              2.0                   2699999999   \n",
       "3                 5.0              2.0                   3100000000   \n",
       "4                 5.0              2.0                   5000000000   \n",
       "\n",
       "  Terjual/Belum Arah Hadap Rumah                 Posisi Rumah  \\\n",
       "0         Belum            Utara                     Standard   \n",
       "1         Belum            Utara                     Standard   \n",
       "2         Belum          Selatan  Cul De Sac/Ujung Gang Buntu   \n",
       "3         Belum            Utara                     Standard   \n",
       "4         Belum            Barat                     Standard   \n",
       "\n",
       "  Lebar Jalan Depan Rumah (ROW)  \n",
       "0                     1-2 Mobil  \n",
       "1                     < 1 Mobil  \n",
       "2                     1-2 Mobil  \n",
       "3                     1-2 Mobil  \n",
       "4                     1-2 Mobil  "
      ]
     },
     "execution_count": 56,
     "metadata": {},
     "output_type": "execute_result"
    }
   ],
   "source": [
    "df.drop(columns= ['Nama Daerah'], inplace=True)\n",
    "df.head()"
   ]
  },
  {
   "cell_type": "markdown",
   "metadata": {
    "id": "2oKqWt9qRLrF"
   },
   "source": [
    "3."
   ]
  },
  {
   "cell_type": "code",
   "execution_count": 57,
   "metadata": {
    "colab": {
     "base_uri": "https://localhost:8080/",
     "height": 241
    },
    "executionInfo": {
     "elapsed": 10,
     "status": "ok",
     "timestamp": 1731494945920,
     "user": {
      "displayName": "Michelle Chandra",
      "userId": "11686912257500406197"
     },
     "user_tz": -420
    },
    "id": "Nmk3tKEP7qXn",
    "outputId": "e136ad2d-b6cb-40fb-f187-3e1f0982edf0"
   },
   "outputs": [
    {
     "data": {
      "text/html": [
       "<div>\n",
       "<style scoped>\n",
       "    .dataframe tbody tr th:only-of-type {\n",
       "        vertical-align: middle;\n",
       "    }\n",
       "\n",
       "    .dataframe tbody tr th {\n",
       "        vertical-align: top;\n",
       "    }\n",
       "\n",
       "    .dataframe thead th {\n",
       "        text-align: right;\n",
       "    }\n",
       "</style>\n",
       "<table border=\"1\" class=\"dataframe\">\n",
       "  <thead>\n",
       "    <tr style=\"text-align: right;\">\n",
       "      <th></th>\n",
       "      <th>Area Category</th>\n",
       "      <th>Luas Tanah (m2)</th>\n",
       "      <th>Luas Bangunan (m2)</th>\n",
       "      <th>Jumlah Kamar</th>\n",
       "      <th>Jumlah Kamar Mandi</th>\n",
       "      <th>Tingkat/Lantai</th>\n",
       "      <th>Harga Penawaran (dari Owner)</th>\n",
       "      <th>Terjual/Belum</th>\n",
       "      <th>Arah Hadap Rumah</th>\n",
       "      <th>Posisi Rumah</th>\n",
       "      <th>Lebar Jalan Depan Rumah (ROW)</th>\n",
       "    </tr>\n",
       "  </thead>\n",
       "  <tbody>\n",
       "    <tr>\n",
       "      <th>0</th>\n",
       "      <td>3</td>\n",
       "      <td>240.0</td>\n",
       "      <td>300.0</td>\n",
       "      <td>4.0</td>\n",
       "      <td>3.0</td>\n",
       "      <td>2.0</td>\n",
       "      <td>3500000000</td>\n",
       "      <td>0</td>\n",
       "      <td>3</td>\n",
       "      <td>2</td>\n",
       "      <td>0</td>\n",
       "    </tr>\n",
       "    <tr>\n",
       "      <th>1</th>\n",
       "      <td>0</td>\n",
       "      <td>30.0</td>\n",
       "      <td>60.0</td>\n",
       "      <td>2.0</td>\n",
       "      <td>1.0</td>\n",
       "      <td>2.0</td>\n",
       "      <td>287799000</td>\n",
       "      <td>0</td>\n",
       "      <td>3</td>\n",
       "      <td>2</td>\n",
       "      <td>1</td>\n",
       "    </tr>\n",
       "    <tr>\n",
       "      <th>2</th>\n",
       "      <td>3</td>\n",
       "      <td>170.0</td>\n",
       "      <td>170.0</td>\n",
       "      <td>5.0</td>\n",
       "      <td>4.0</td>\n",
       "      <td>2.0</td>\n",
       "      <td>2699999999</td>\n",
       "      <td>0</td>\n",
       "      <td>1</td>\n",
       "      <td>0</td>\n",
       "      <td>0</td>\n",
       "    </tr>\n",
       "    <tr>\n",
       "      <th>3</th>\n",
       "      <td>2</td>\n",
       "      <td>187.0</td>\n",
       "      <td>250.0</td>\n",
       "      <td>5.0</td>\n",
       "      <td>5.0</td>\n",
       "      <td>2.0</td>\n",
       "      <td>3100000000</td>\n",
       "      <td>0</td>\n",
       "      <td>3</td>\n",
       "      <td>2</td>\n",
       "      <td>0</td>\n",
       "    </tr>\n",
       "    <tr>\n",
       "      <th>4</th>\n",
       "      <td>1</td>\n",
       "      <td>350.0</td>\n",
       "      <td>600.0</td>\n",
       "      <td>5.0</td>\n",
       "      <td>5.0</td>\n",
       "      <td>2.0</td>\n",
       "      <td>5000000000</td>\n",
       "      <td>0</td>\n",
       "      <td>0</td>\n",
       "      <td>2</td>\n",
       "      <td>0</td>\n",
       "    </tr>\n",
       "  </tbody>\n",
       "</table>\n",
       "</div>"
      ],
      "text/plain": [
       "   Area Category  Luas Tanah (m2)  Luas Bangunan (m2)  Jumlah Kamar  \\\n",
       "0              3            240.0               300.0           4.0   \n",
       "1              0             30.0                60.0           2.0   \n",
       "2              3            170.0               170.0           5.0   \n",
       "3              2            187.0               250.0           5.0   \n",
       "4              1            350.0               600.0           5.0   \n",
       "\n",
       "   Jumlah Kamar Mandi  Tingkat/Lantai  Harga Penawaran (dari Owner)  \\\n",
       "0                 3.0              2.0                   3500000000   \n",
       "1                 1.0              2.0                    287799000   \n",
       "2                 4.0              2.0                   2699999999   \n",
       "3                 5.0              2.0                   3100000000   \n",
       "4                 5.0              2.0                   5000000000   \n",
       "\n",
       "   Terjual/Belum  Arah Hadap Rumah  Posisi Rumah  \\\n",
       "0              0                 3             2   \n",
       "1              0                 3             2   \n",
       "2              0                 1             0   \n",
       "3              0                 3             2   \n",
       "4              0                 0             2   \n",
       "\n",
       "   Lebar Jalan Depan Rumah (ROW)  \n",
       "0                              0  \n",
       "1                              1  \n",
       "2                              0  \n",
       "3                              0  \n",
       "4                              0  "
      ]
     },
     "execution_count": 57,
     "metadata": {},
     "output_type": "execute_result"
    }
   ],
   "source": [
    "le = LabelEncoder()\n",
    "for col in ['Area Category', 'Terjual/Belum', 'Arah Hadap Rumah', 'Posisi Rumah', 'Lebar Jalan Depan Rumah (ROW)']:\n",
    "  df[col] = le.fit_transform(df[col])\n",
    "df.head()"
   ]
  },
  {
   "cell_type": "markdown",
   "metadata": {
    "id": "NnwN15T_rk-x"
   },
   "source": [
    "To replace incorrect or invalid data in the column \"Harga Penawaran (dari Owner)\", do the following:\n",
    "\n",
    "Replace empty values (\" \") with \"10500000000\".\n",
    "\n",
    "Replace values with commas like \"10.500.000.000,00\" with \"10500000000\"."
   ]
  },
  {
   "cell_type": "code",
   "execution_count": 58,
   "metadata": {
    "id": "Zie7cOwvbkIm"
   },
   "outputs": [
    {
     "name": "stderr",
     "output_type": "stream",
     "text": [
      "C:\\Users\\Belinda\\AppData\\Local\\Temp\\ipykernel_55436\\3972218802.py:2: FutureWarning: The default value of regex will change from True to False in a future version. In addition, single character regular expressions will *not* be treated as literal strings when regex=True.\n",
      "  df['Harga Penawaran (dari Owner)'] = df['Harga Penawaran (dari Owner)'].str.replace('.', '').str.replace(',', '').astype(object)\n"
     ]
    }
   ],
   "source": [
    "df['Harga Penawaran (dari Owner)'].replace(\" \", \"10500000000\", inplace=True)\n",
    "df['Harga Penawaran (dari Owner)'] = df['Harga Penawaran (dari Owner)'].str.replace('.', '').str.replace(',', '').astype(object)"
   ]
  },
  {
   "cell_type": "markdown",
   "metadata": {
    "id": "ZYcSwNYQrfF3"
   },
   "source": [
    "check the data type"
   ]
  },
  {
   "cell_type": "code",
   "execution_count": 59,
   "metadata": {
    "colab": {
     "base_uri": "https://localhost:8080/"
    },
    "executionInfo": {
     "elapsed": 9,
     "status": "ok",
     "timestamp": 1731494945920,
     "user": {
      "displayName": "Michelle Chandra",
      "userId": "11686912257500406197"
     },
     "user_tz": -420
    },
    "id": "tenlxUxBLdWR",
    "outputId": "fc7f1008-ad75-4ca9-906a-1e8d36f5e240"
   },
   "outputs": [
    {
     "name": "stdout",
     "output_type": "stream",
     "text": [
      "<class 'pandas.core.frame.DataFrame'>\n",
      "RangeIndex: 308 entries, 0 to 307\n",
      "Data columns (total 11 columns):\n",
      " #   Column                         Non-Null Count  Dtype  \n",
      "---  ------                         --------------  -----  \n",
      " 0   Area Category                  308 non-null    int32  \n",
      " 1   Luas Tanah (m2)                308 non-null    float64\n",
      " 2   Luas Bangunan (m2)             308 non-null    float64\n",
      " 3   Jumlah Kamar                   308 non-null    float64\n",
      " 4   Jumlah Kamar Mandi             308 non-null    float64\n",
      " 5   Tingkat/Lantai                 308 non-null    float64\n",
      " 6   Harga Penawaran (dari Owner)   308 non-null    object \n",
      " 7   Terjual/Belum                  308 non-null    int32  \n",
      " 8   Arah Hadap Rumah               308 non-null    int32  \n",
      " 9   Posisi Rumah                   308 non-null    int32  \n",
      " 10  Lebar Jalan Depan Rumah (ROW)  308 non-null    int32  \n",
      "dtypes: float64(5), int32(5), object(1)\n",
      "memory usage: 20.6+ KB\n"
     ]
    }
   ],
   "source": [
    "df.info()"
   ]
  },
  {
   "cell_type": "markdown",
   "metadata": {
    "id": "t6lZHF2PLXGo"
   },
   "source": [
    "Change the data types from:\n",
    "\n",
    "- float to int\n",
    "- object to int"
   ]
  },
  {
   "cell_type": "code",
   "execution_count": 60,
   "metadata": {
    "id": "tePlKVUaLE8k"
   },
   "outputs": [],
   "source": [
    "float_columns = df.select_dtypes(include=['float64']).columns\n",
    "for col in float_columns:\n",
    "    df[col] = df[col].round().astype('Int64') \n",
    "\n",
    "int32_columns = df.select_dtypes(include=['int32']).columns\n",
    "for col in int32_columns:\n",
    "    df[col] = df[col].astype('Int64')\n",
    "\n",
    "df['Harga Penawaran (dari Owner)'] = df['Harga Penawaran (dari Owner)'].astype('Int64')"
   ]
  },
  {
   "cell_type": "code",
   "execution_count": 61,
   "metadata": {
    "colab": {
     "base_uri": "https://localhost:8080/"
    },
    "executionInfo": {
     "elapsed": 7,
     "status": "ok",
     "timestamp": 1731494945920,
     "user": {
      "displayName": "Michelle Chandra",
      "userId": "11686912257500406197"
     },
     "user_tz": -420
    },
    "id": "PdRtvMT3bEnJ",
    "outputId": "2ffc8204-e315-42e2-fdad-ba6f4101fce0"
   },
   "outputs": [
    {
     "name": "stdout",
     "output_type": "stream",
     "text": [
      "<class 'pandas.core.frame.DataFrame'>\n",
      "RangeIndex: 308 entries, 0 to 307\n",
      "Data columns (total 11 columns):\n",
      " #   Column                         Non-Null Count  Dtype\n",
      "---  ------                         --------------  -----\n",
      " 0   Area Category                  308 non-null    Int64\n",
      " 1   Luas Tanah (m2)                308 non-null    Int64\n",
      " 2   Luas Bangunan (m2)             308 non-null    Int64\n",
      " 3   Jumlah Kamar                   308 non-null    Int64\n",
      " 4   Jumlah Kamar Mandi             308 non-null    Int64\n",
      " 5   Tingkat/Lantai                 308 non-null    Int64\n",
      " 6   Harga Penawaran (dari Owner)   308 non-null    Int64\n",
      " 7   Terjual/Belum                  308 non-null    Int64\n",
      " 8   Arah Hadap Rumah               308 non-null    Int64\n",
      " 9   Posisi Rumah                   308 non-null    Int64\n",
      " 10  Lebar Jalan Depan Rumah (ROW)  308 non-null    Int64\n",
      "dtypes: Int64(11)\n",
      "memory usage: 29.9 KB\n"
     ]
    }
   ],
   "source": [
    "df.info()"
   ]
  },
  {
   "cell_type": "markdown",
   "metadata": {
    "id": "_qQtlqnzRARK"
   },
   "source": [
    "4."
   ]
  },
  {
   "cell_type": "code",
   "execution_count": 62,
   "metadata": {
    "colab": {
     "base_uri": "https://localhost:8080/",
     "height": 241
    },
    "executionInfo": {
     "elapsed": 359,
     "status": "ok",
     "timestamp": 1731494946273,
     "user": {
      "displayName": "Michelle Chandra",
      "userId": "11686912257500406197"
     },
     "user_tz": -420
    },
    "id": "_EOGmQfi8XKS",
    "outputId": "7a5f9565-742c-461a-f1f6-e0d6b361b048"
   },
   "outputs": [
    {
     "data": {
      "text/html": [
       "<div>\n",
       "<style scoped>\n",
       "    .dataframe tbody tr th:only-of-type {\n",
       "        vertical-align: middle;\n",
       "    }\n",
       "\n",
       "    .dataframe tbody tr th {\n",
       "        vertical-align: top;\n",
       "    }\n",
       "\n",
       "    .dataframe thead th {\n",
       "        text-align: right;\n",
       "    }\n",
       "</style>\n",
       "<table border=\"1\" class=\"dataframe\">\n",
       "  <thead>\n",
       "    <tr style=\"text-align: right;\">\n",
       "      <th></th>\n",
       "      <th>Area Category</th>\n",
       "      <th>Luas Tanah (m2)</th>\n",
       "      <th>Luas Bangunan (m2)</th>\n",
       "      <th>Jumlah Kamar</th>\n",
       "      <th>Jumlah Kamar Mandi</th>\n",
       "      <th>Tingkat/Lantai</th>\n",
       "      <th>Harga Penawaran (dari Owner)</th>\n",
       "      <th>Terjual/Belum</th>\n",
       "      <th>Arah Hadap Rumah</th>\n",
       "      <th>Posisi Rumah</th>\n",
       "      <th>Lebar Jalan Depan Rumah (ROW)</th>\n",
       "    </tr>\n",
       "  </thead>\n",
       "  <tbody>\n",
       "    <tr>\n",
       "      <th>0</th>\n",
       "      <td>3</td>\n",
       "      <td>240</td>\n",
       "      <td>300</td>\n",
       "      <td>4</td>\n",
       "      <td>3</td>\n",
       "      <td>2</td>\n",
       "      <td>3500000000</td>\n",
       "      <td>0</td>\n",
       "      <td>3</td>\n",
       "      <td>2</td>\n",
       "      <td>0</td>\n",
       "    </tr>\n",
       "    <tr>\n",
       "      <th>1</th>\n",
       "      <td>0</td>\n",
       "      <td>30</td>\n",
       "      <td>60</td>\n",
       "      <td>2</td>\n",
       "      <td>1</td>\n",
       "      <td>2</td>\n",
       "      <td>287799000</td>\n",
       "      <td>0</td>\n",
       "      <td>3</td>\n",
       "      <td>2</td>\n",
       "      <td>1</td>\n",
       "    </tr>\n",
       "    <tr>\n",
       "      <th>2</th>\n",
       "      <td>3</td>\n",
       "      <td>170</td>\n",
       "      <td>170</td>\n",
       "      <td>5</td>\n",
       "      <td>4</td>\n",
       "      <td>2</td>\n",
       "      <td>2699999999</td>\n",
       "      <td>0</td>\n",
       "      <td>1</td>\n",
       "      <td>0</td>\n",
       "      <td>0</td>\n",
       "    </tr>\n",
       "    <tr>\n",
       "      <th>3</th>\n",
       "      <td>2</td>\n",
       "      <td>187</td>\n",
       "      <td>250</td>\n",
       "      <td>5</td>\n",
       "      <td>5</td>\n",
       "      <td>2</td>\n",
       "      <td>3100000000</td>\n",
       "      <td>0</td>\n",
       "      <td>3</td>\n",
       "      <td>2</td>\n",
       "      <td>0</td>\n",
       "    </tr>\n",
       "    <tr>\n",
       "      <th>4</th>\n",
       "      <td>1</td>\n",
       "      <td>350</td>\n",
       "      <td>600</td>\n",
       "      <td>5</td>\n",
       "      <td>5</td>\n",
       "      <td>2</td>\n",
       "      <td>5000000000</td>\n",
       "      <td>0</td>\n",
       "      <td>0</td>\n",
       "      <td>2</td>\n",
       "      <td>0</td>\n",
       "    </tr>\n",
       "  </tbody>\n",
       "</table>\n",
       "</div>"
      ],
      "text/plain": [
       "   Area Category  Luas Tanah (m2)  Luas Bangunan (m2)  Jumlah Kamar  \\\n",
       "0              3              240                 300             4   \n",
       "1              0               30                  60             2   \n",
       "2              3              170                 170             5   \n",
       "3              2              187                 250             5   \n",
       "4              1              350                 600             5   \n",
       "\n",
       "   Jumlah Kamar Mandi  Tingkat/Lantai   Harga Penawaran (dari Owner)  \\\n",
       "0                   3                2                    3500000000   \n",
       "1                   1                2                     287799000   \n",
       "2                   4                2                    2699999999   \n",
       "3                   5                2                    3100000000   \n",
       "4                   5                2                    5000000000   \n",
       "\n",
       "   Terjual/Belum  Arah Hadap Rumah  Posisi Rumah  \\\n",
       "0              0                 3             2   \n",
       "1              0                 3             2   \n",
       "2              0                 1             0   \n",
       "3              0                 3             2   \n",
       "4              0                 0             2   \n",
       "\n",
       "   Lebar Jalan Depan Rumah (ROW)  \n",
       "0                              0  \n",
       "1                              1  \n",
       "2                              0  \n",
       "3                              0  \n",
       "4                              0  "
      ]
     },
     "execution_count": 62,
     "metadata": {},
     "output_type": "execute_result"
    }
   ],
   "source": [
    "scaler = StandardScaler()\n",
    "scaled_data = scaler.fit_transform(df)\n",
    "df.head()"
   ]
  },
  {
   "cell_type": "markdown",
   "metadata": {
    "id": "ZPx1qmFr3ouX"
   },
   "source": [
    "## K-Means Clustering"
   ]
  },
  {
   "cell_type": "markdown",
   "metadata": {
    "id": "BAHb1xo_A3m5"
   },
   "source": [
    "Using the elbow method, determine the number of clusters to be formed.\n",
    "\n",
    "Use the elbow range range(1, 11)"
   ]
  },
  {
   "cell_type": "code",
   "execution_count": 63,
   "metadata": {
    "colab": {
     "base_uri": "https://localhost:8080/",
     "height": 449
    },
    "executionInfo": {
     "elapsed": 406,
     "status": "ok",
     "timestamp": 1731494947125,
     "user": {
      "displayName": "Michelle Chandra",
      "userId": "11686912257500406197"
     },
     "user_tz": -420
    },
    "id": "HFLEIVEI-J8n",
    "outputId": "3f7fc0d3-9e16-471b-e662-0180436d1d87"
   },
   "outputs": [],
   "source": [
    "from sklearn.cluster import AgglomerativeClustering, KMeans"
   ]
  },
  {
   "cell_type": "code",
   "execution_count": 64,
   "metadata": {
    "id": "d1PAPly31946"
   },
   "outputs": [
    {
     "name": "stderr",
     "output_type": "stream",
     "text": [
      "c:\\Users\\Belinda\\anaconda3\\Lib\\site-packages\\sklearn\\cluster\\_kmeans.py:1412: FutureWarning: The default value of `n_init` will change from 10 to 'auto' in 1.4. Set the value of `n_init` explicitly to suppress the warning\n",
      "  super()._check_params_vs_input(X, default_n_init=10)\n",
      "c:\\Users\\Belinda\\anaconda3\\Lib\\site-packages\\sklearn\\cluster\\_kmeans.py:1436: UserWarning: KMeans is known to have a memory leak on Windows with MKL, when there are less chunks than available threads. You can avoid it by setting the environment variable OMP_NUM_THREADS=2.\n",
      "  warnings.warn(\n",
      "c:\\Users\\Belinda\\anaconda3\\Lib\\site-packages\\sklearn\\cluster\\_kmeans.py:1412: FutureWarning: The default value of `n_init` will change from 10 to 'auto' in 1.4. Set the value of `n_init` explicitly to suppress the warning\n",
      "  super()._check_params_vs_input(X, default_n_init=10)\n",
      "c:\\Users\\Belinda\\anaconda3\\Lib\\site-packages\\sklearn\\cluster\\_kmeans.py:1436: UserWarning: KMeans is known to have a memory leak on Windows with MKL, when there are less chunks than available threads. You can avoid it by setting the environment variable OMP_NUM_THREADS=2.\n",
      "  warnings.warn(\n",
      "c:\\Users\\Belinda\\anaconda3\\Lib\\site-packages\\sklearn\\cluster\\_kmeans.py:1412: FutureWarning: The default value of `n_init` will change from 10 to 'auto' in 1.4. Set the value of `n_init` explicitly to suppress the warning\n",
      "  super()._check_params_vs_input(X, default_n_init=10)\n",
      "c:\\Users\\Belinda\\anaconda3\\Lib\\site-packages\\sklearn\\cluster\\_kmeans.py:1436: UserWarning: KMeans is known to have a memory leak on Windows with MKL, when there are less chunks than available threads. You can avoid it by setting the environment variable OMP_NUM_THREADS=2.\n",
      "  warnings.warn(\n",
      "c:\\Users\\Belinda\\anaconda3\\Lib\\site-packages\\sklearn\\cluster\\_kmeans.py:1412: FutureWarning: The default value of `n_init` will change from 10 to 'auto' in 1.4. Set the value of `n_init` explicitly to suppress the warning\n",
      "  super()._check_params_vs_input(X, default_n_init=10)\n",
      "c:\\Users\\Belinda\\anaconda3\\Lib\\site-packages\\sklearn\\cluster\\_kmeans.py:1436: UserWarning: KMeans is known to have a memory leak on Windows with MKL, when there are less chunks than available threads. You can avoid it by setting the environment variable OMP_NUM_THREADS=2.\n",
      "  warnings.warn(\n",
      "c:\\Users\\Belinda\\anaconda3\\Lib\\site-packages\\sklearn\\cluster\\_kmeans.py:1412: FutureWarning: The default value of `n_init` will change from 10 to 'auto' in 1.4. Set the value of `n_init` explicitly to suppress the warning\n",
      "  super()._check_params_vs_input(X, default_n_init=10)\n",
      "c:\\Users\\Belinda\\anaconda3\\Lib\\site-packages\\sklearn\\cluster\\_kmeans.py:1436: UserWarning: KMeans is known to have a memory leak on Windows with MKL, when there are less chunks than available threads. You can avoid it by setting the environment variable OMP_NUM_THREADS=2.\n",
      "  warnings.warn(\n",
      "c:\\Users\\Belinda\\anaconda3\\Lib\\site-packages\\sklearn\\cluster\\_kmeans.py:1412: FutureWarning: The default value of `n_init` will change from 10 to 'auto' in 1.4. Set the value of `n_init` explicitly to suppress the warning\n",
      "  super()._check_params_vs_input(X, default_n_init=10)\n",
      "c:\\Users\\Belinda\\anaconda3\\Lib\\site-packages\\sklearn\\cluster\\_kmeans.py:1436: UserWarning: KMeans is known to have a memory leak on Windows with MKL, when there are less chunks than available threads. You can avoid it by setting the environment variable OMP_NUM_THREADS=2.\n",
      "  warnings.warn(\n",
      "c:\\Users\\Belinda\\anaconda3\\Lib\\site-packages\\sklearn\\cluster\\_kmeans.py:1412: FutureWarning: The default value of `n_init` will change from 10 to 'auto' in 1.4. Set the value of `n_init` explicitly to suppress the warning\n",
      "  super()._check_params_vs_input(X, default_n_init=10)\n",
      "c:\\Users\\Belinda\\anaconda3\\Lib\\site-packages\\sklearn\\cluster\\_kmeans.py:1436: UserWarning: KMeans is known to have a memory leak on Windows with MKL, when there are less chunks than available threads. You can avoid it by setting the environment variable OMP_NUM_THREADS=2.\n",
      "  warnings.warn(\n",
      "c:\\Users\\Belinda\\anaconda3\\Lib\\site-packages\\sklearn\\cluster\\_kmeans.py:1412: FutureWarning: The default value of `n_init` will change from 10 to 'auto' in 1.4. Set the value of `n_init` explicitly to suppress the warning\n",
      "  super()._check_params_vs_input(X, default_n_init=10)\n",
      "c:\\Users\\Belinda\\anaconda3\\Lib\\site-packages\\sklearn\\cluster\\_kmeans.py:1436: UserWarning: KMeans is known to have a memory leak on Windows with MKL, when there are less chunks than available threads. You can avoid it by setting the environment variable OMP_NUM_THREADS=2.\n",
      "  warnings.warn(\n",
      "c:\\Users\\Belinda\\anaconda3\\Lib\\site-packages\\sklearn\\cluster\\_kmeans.py:1412: FutureWarning: The default value of `n_init` will change from 10 to 'auto' in 1.4. Set the value of `n_init` explicitly to suppress the warning\n",
      "  super()._check_params_vs_input(X, default_n_init=10)\n",
      "c:\\Users\\Belinda\\anaconda3\\Lib\\site-packages\\sklearn\\cluster\\_kmeans.py:1436: UserWarning: KMeans is known to have a memory leak on Windows with MKL, when there are less chunks than available threads. You can avoid it by setting the environment variable OMP_NUM_THREADS=2.\n",
      "  warnings.warn(\n",
      "c:\\Users\\Belinda\\anaconda3\\Lib\\site-packages\\sklearn\\cluster\\_kmeans.py:1412: FutureWarning: The default value of `n_init` will change from 10 to 'auto' in 1.4. Set the value of `n_init` explicitly to suppress the warning\n",
      "  super()._check_params_vs_input(X, default_n_init=10)\n",
      "c:\\Users\\Belinda\\anaconda3\\Lib\\site-packages\\sklearn\\cluster\\_kmeans.py:1436: UserWarning: KMeans is known to have a memory leak on Windows with MKL, when there are less chunks than available threads. You can avoid it by setting the environment variable OMP_NUM_THREADS=2.\n",
      "  warnings.warn(\n"
     ]
    },
    {
     "data": {
      "image/png": "[encoded data removed]",
      "text/plain": [
       "<Figure size 1200x600 with 1 Axes>"
      ]
     },
     "metadata": {},
     "output_type": "display_data"
    }
   ],
   "source": [
    "sse=[]\n",
    "for i in range(1, 11):\n",
    "    kmeans = KMeans(n_clusters=i, init='random', max_iter=300, random_state=42)\n",
    "    kmeans.fit(df)\n",
    "    sse.append(kmeans.inertia_)\n",
    "\n",
    "knee = KneeLocator(range(1, 11), sse, curve=\"convex\", direction=\"decreasing\")\n",
    "plt.figure(figsize=(12, 6))\n",
    "plt.plot(range(1,11), sse, color='black')\n",
    "plt.scatter(range(1,11),sse,color='red')\n",
    "plt.title('SSE vs. Number of Clusters (K)')\n",
    "plt.xlabel('Number of Clusters (K)')\n",
    "plt.ylabel('SSE')\n",
    "plt.grid(True)\n",
    "\n",
    "plt.vlines(knee.elbow, plt.ylim()[0], plt.ylim()[1], linestyles='--', colors='red', label='Elbow Point')\n",
    "plt.legend()\n",
    "plt.show()"
   ]
  },
  {
   "cell_type": "code",
   "execution_count": null,
   "metadata": {
    "colab": {
     "base_uri": "https://localhost:8080/"
    },
    "executionInfo": {
     "elapsed": 8,
     "status": "ok",
     "timestamp": 1731494947126,
     "user": {
      "displayName": "Michelle Chandra",
      "userId": "11686912257500406197"
     },
     "user_tz": -420
    },
    "id": "r4777AaK-Mlw",
    "outputId": "f06389c6-496b-4499-b84f-83870222b994"
   },
   "outputs": [
    {
     "name": "stdout",
     "output_type": "stream",
     "text": [
      "the best k for your model is  3\n"
     ]
    }
   ],
   "source": [
    "findknee = KneeLocator(range(1,11), sse, curve=\"convex\", direction=\"decreasing\")\n",
    "best_k = findknee.knee\n",
    "print(\"the best k for your model is \", best_k)"
   ]
  },
  {
   "cell_type": "markdown",
   "metadata": {
    "id": "riWXo9djBIkj"
   },
   "source": [
    "Train the K-Means model on the dataset with the number of clusters you have determined."
   ]
  },
  {
   "cell_type": "code",
   "execution_count": 66,
   "metadata": {},
   "outputs": [
    {
     "name": "stderr",
     "output_type": "stream",
     "text": [
      "c:\\Users\\Belinda\\anaconda3\\Lib\\site-packages\\sklearn\\cluster\\_kmeans.py:1412: FutureWarning: The default value of `n_init` will change from 10 to 'auto' in 1.4. Set the value of `n_init` explicitly to suppress the warning\n",
      "  super()._check_params_vs_input(X, default_n_init=10)\n",
      "c:\\Users\\Belinda\\anaconda3\\Lib\\site-packages\\sklearn\\cluster\\_kmeans.py:1436: UserWarning: KMeans is known to have a memory leak on Windows with MKL, when there are less chunks than available threads. You can avoid it by setting the environment variable OMP_NUM_THREADS=2.\n",
      "  warnings.warn(\n"
     ]
    },
    {
     "data": {
      "text/html": [
       "<div>\n",
       "<style scoped>\n",
       "    .dataframe tbody tr th:only-of-type {\n",
       "        vertical-align: middle;\n",
       "    }\n",
       "\n",
       "    .dataframe tbody tr th {\n",
       "        vertical-align: top;\n",
       "    }\n",
       "\n",
       "    .dataframe thead th {\n",
       "        text-align: right;\n",
       "    }\n",
       "</style>\n",
       "<table border=\"1\" class=\"dataframe\">\n",
       "  <thead>\n",
       "    <tr style=\"text-align: right;\">\n",
       "      <th></th>\n",
       "      <th>Area Category</th>\n",
       "      <th>Luas Tanah (m2)</th>\n",
       "      <th>Luas Bangunan (m2)</th>\n",
       "      <th>Jumlah Kamar</th>\n",
       "      <th>Jumlah Kamar Mandi</th>\n",
       "      <th>Tingkat/Lantai</th>\n",
       "      <th>Harga Penawaran (dari Owner)</th>\n",
       "      <th>Terjual/Belum</th>\n",
       "      <th>Arah Hadap Rumah</th>\n",
       "      <th>Posisi Rumah</th>\n",
       "      <th>Lebar Jalan Depan Rumah (ROW)</th>\n",
       "      <th>Cluster</th>\n",
       "    </tr>\n",
       "  </thead>\n",
       "  <tbody>\n",
       "    <tr>\n",
       "      <th>0</th>\n",
       "      <td>3</td>\n",
       "      <td>240</td>\n",
       "      <td>300</td>\n",
       "      <td>4</td>\n",
       "      <td>3</td>\n",
       "      <td>2</td>\n",
       "      <td>3500000000</td>\n",
       "      <td>0</td>\n",
       "      <td>3</td>\n",
       "      <td>2</td>\n",
       "      <td>0</td>\n",
       "      <td>1</td>\n",
       "    </tr>\n",
       "    <tr>\n",
       "      <th>1</th>\n",
       "      <td>0</td>\n",
       "      <td>30</td>\n",
       "      <td>60</td>\n",
       "      <td>2</td>\n",
       "      <td>1</td>\n",
       "      <td>2</td>\n",
       "      <td>287799000</td>\n",
       "      <td>0</td>\n",
       "      <td>3</td>\n",
       "      <td>2</td>\n",
       "      <td>1</td>\n",
       "      <td>2</td>\n",
       "    </tr>\n",
       "    <tr>\n",
       "      <th>2</th>\n",
       "      <td>3</td>\n",
       "      <td>170</td>\n",
       "      <td>170</td>\n",
       "      <td>5</td>\n",
       "      <td>4</td>\n",
       "      <td>2</td>\n",
       "      <td>2699999999</td>\n",
       "      <td>0</td>\n",
       "      <td>1</td>\n",
       "      <td>0</td>\n",
       "      <td>0</td>\n",
       "      <td>1</td>\n",
       "    </tr>\n",
       "    <tr>\n",
       "      <th>3</th>\n",
       "      <td>2</td>\n",
       "      <td>187</td>\n",
       "      <td>250</td>\n",
       "      <td>5</td>\n",
       "      <td>5</td>\n",
       "      <td>2</td>\n",
       "      <td>3100000000</td>\n",
       "      <td>0</td>\n",
       "      <td>3</td>\n",
       "      <td>2</td>\n",
       "      <td>0</td>\n",
       "      <td>1</td>\n",
       "    </tr>\n",
       "    <tr>\n",
       "      <th>4</th>\n",
       "      <td>1</td>\n",
       "      <td>350</td>\n",
       "      <td>600</td>\n",
       "      <td>5</td>\n",
       "      <td>5</td>\n",
       "      <td>2</td>\n",
       "      <td>5000000000</td>\n",
       "      <td>0</td>\n",
       "      <td>0</td>\n",
       "      <td>2</td>\n",
       "      <td>0</td>\n",
       "      <td>1</td>\n",
       "    </tr>\n",
       "  </tbody>\n",
       "</table>\n",
       "</div>"
      ],
      "text/plain": [
       "   Area Category  Luas Tanah (m2)  Luas Bangunan (m2)  Jumlah Kamar  \\\n",
       "0              3              240                 300             4   \n",
       "1              0               30                  60             2   \n",
       "2              3              170                 170             5   \n",
       "3              2              187                 250             5   \n",
       "4              1              350                 600             5   \n",
       "\n",
       "   Jumlah Kamar Mandi  Tingkat/Lantai   Harga Penawaran (dari Owner)  \\\n",
       "0                   3                2                    3500000000   \n",
       "1                   1                2                     287799000   \n",
       "2                   4                2                    2699999999   \n",
       "3                   5                2                    3100000000   \n",
       "4                   5                2                    5000000000   \n",
       "\n",
       "   Terjual/Belum  Arah Hadap Rumah  Posisi Rumah  \\\n",
       "0              0                 3             2   \n",
       "1              0                 3             2   \n",
       "2              0                 1             0   \n",
       "3              0                 3             2   \n",
       "4              0                 0             2   \n",
       "\n",
       "   Lebar Jalan Depan Rumah (ROW)  Cluster  \n",
       "0                              0        1  \n",
       "1                              1        2  \n",
       "2                              0        1  \n",
       "3                              0        1  \n",
       "4                              0        1  "
      ]
     },
     "execution_count": 66,
     "metadata": {},
     "output_type": "execute_result"
    }
   ],
   "source": [
    "kmeans1 = KMeans(n_clusters=best_k,init=\"random\").fit(scaled_data)\n",
    "sse.append(kmeans.inertia_)\n",
    "df_kmeans = kmeans1.predict(scaled_data)\n",
    "df[\"Cluster\"]= df_kmeans\n",
    "df.head()"
   ]
  },
  {
   "cell_type": "markdown",
   "metadata": {
    "id": "DySLxlWqBNyH"
   },
   "source": [
    "Display the cluster summary in the form of a dataframe:\n",
    "\n",
    "1. For categorical columns: mode (use pd.Series.mode to find the mode; you do not need to use \" \" for this attribute).\n",
    "2. For continuous columns: mean.\n",
    "3. Cluster results: count."
   ]
  },
  {
   "cell_type": "code",
   "execution_count": 67,
   "metadata": {
    "colab": {
     "base_uri": "https://localhost:8080/",
     "height": 175
    },
    "executionInfo": {
     "elapsed": 6,
     "status": "ok",
     "timestamp": 1731494947126,
     "user": {
      "displayName": "Michelle Chandra",
      "userId": "11686912257500406197"
     },
     "user_tz": -420
    },
    "id": "y8VI0UjsIjz4",
    "outputId": "d0012175-8ac9-4fa6-9c6d-ebd96162a194"
   },
   "outputs": [
    {
     "name": "stderr",
     "output_type": "stream",
     "text": [
      "C:\\Users\\Belinda\\AppData\\Local\\Temp\\ipykernel_55436\\960109718.py:1: FutureWarning: Indexing with multiple keys (implicitly converted to a tuple of keys) will be deprecated, use a list instead.\n",
      "  df.groupby(\"Cluster\")[\"Area Category\",\"Terjual/Belum\",\"Arah Hadap Rumah\", \"Posisi Rumah\", \"Lebar Jalan Depan Rumah (ROW)\"].agg(pd.Series.mode)\n"
     ]
    },
    {
     "data": {
      "text/html": [
       "<div>\n",
       "<style scoped>\n",
       "    .dataframe tbody tr th:only-of-type {\n",
       "        vertical-align: middle;\n",
       "    }\n",
       "\n",
       "    .dataframe tbody tr th {\n",
       "        vertical-align: top;\n",
       "    }\n",
       "\n",
       "    .dataframe thead th {\n",
       "        text-align: right;\n",
       "    }\n",
       "</style>\n",
       "<table border=\"1\" class=\"dataframe\">\n",
       "  <thead>\n",
       "    <tr style=\"text-align: right;\">\n",
       "      <th></th>\n",
       "      <th>Area Category</th>\n",
       "      <th>Terjual/Belum</th>\n",
       "      <th>Arah Hadap Rumah</th>\n",
       "      <th>Posisi Rumah</th>\n",
       "      <th>Lebar Jalan Depan Rumah (ROW)</th>\n",
       "    </tr>\n",
       "    <tr>\n",
       "      <th>Cluster</th>\n",
       "      <th></th>\n",
       "      <th></th>\n",
       "      <th></th>\n",
       "      <th></th>\n",
       "      <th></th>\n",
       "    </tr>\n",
       "  </thead>\n",
       "  <tbody>\n",
       "    <tr>\n",
       "      <th>0</th>\n",
       "      <td>[1, 2]</td>\n",
       "      <td>0</td>\n",
       "      <td>3</td>\n",
       "      <td>2</td>\n",
       "      <td>2</td>\n",
       "    </tr>\n",
       "    <tr>\n",
       "      <th>1</th>\n",
       "      <td>1</td>\n",
       "      <td>0</td>\n",
       "      <td>3</td>\n",
       "      <td>2</td>\n",
       "      <td>0</td>\n",
       "    </tr>\n",
       "    <tr>\n",
       "      <th>2</th>\n",
       "      <td>3</td>\n",
       "      <td>0</td>\n",
       "      <td>3</td>\n",
       "      <td>2</td>\n",
       "      <td>0</td>\n",
       "    </tr>\n",
       "  </tbody>\n",
       "</table>\n",
       "</div>"
      ],
      "text/plain": [
       "        Area Category  Terjual/Belum  Arah Hadap Rumah  Posisi Rumah  \\\n",
       "Cluster                                                                \n",
       "0              [1, 2]              0                 3             2   \n",
       "1                   1              0                 3             2   \n",
       "2                   3              0                 3             2   \n",
       "\n",
       "         Lebar Jalan Depan Rumah (ROW)  \n",
       "Cluster                                 \n",
       "0                                    2  \n",
       "1                                    0  \n",
       "2                                    0  "
      ]
     },
     "execution_count": 67,
     "metadata": {},
     "output_type": "execute_result"
    }
   ],
   "source": [
    "df.groupby(\"Cluster\")[\"Area Category\",\"Terjual/Belum\",\"Arah Hadap Rumah\", \"Posisi Rumah\", \"Lebar Jalan Depan Rumah (ROW)\"].agg(pd.Series.mode)"
   ]
  },
  {
   "cell_type": "code",
   "execution_count": 68,
   "metadata": {},
   "outputs": [
    {
     "name": "stderr",
     "output_type": "stream",
     "text": [
      "C:\\Users\\Belinda\\AppData\\Local\\Temp\\ipykernel_55436\\952140804.py:1: FutureWarning: Indexing with multiple keys (implicitly converted to a tuple of keys) will be deprecated, use a list instead.\n",
      "  df.groupby(\"Cluster\")[\"Luas Tanah (m2)\", \"Luas Bangunan (m2)\", \"Jumlah Kamar\", \"Jumlah Kamar Mandi\", \"Tingkat/Lantai \" , \"Harga Penawaran (dari Owner)\"].agg(pd.Series.mean)\n"
     ]
    },
    {
     "data": {
      "text/html": [
       "<div>\n",
       "<style scoped>\n",
       "    .dataframe tbody tr th:only-of-type {\n",
       "        vertical-align: middle;\n",
       "    }\n",
       "\n",
       "    .dataframe tbody tr th {\n",
       "        vertical-align: top;\n",
       "    }\n",
       "\n",
       "    .dataframe thead th {\n",
       "        text-align: right;\n",
       "    }\n",
       "</style>\n",
       "<table border=\"1\" class=\"dataframe\">\n",
       "  <thead>\n",
       "    <tr style=\"text-align: right;\">\n",
       "      <th></th>\n",
       "      <th>Luas Tanah (m2)</th>\n",
       "      <th>Luas Bangunan (m2)</th>\n",
       "      <th>Jumlah Kamar</th>\n",
       "      <th>Jumlah Kamar Mandi</th>\n",
       "      <th>Tingkat/Lantai</th>\n",
       "      <th>Harga Penawaran (dari Owner)</th>\n",
       "    </tr>\n",
       "    <tr>\n",
       "      <th>Cluster</th>\n",
       "      <th></th>\n",
       "      <th></th>\n",
       "      <th></th>\n",
       "      <th></th>\n",
       "      <th></th>\n",
       "      <th></th>\n",
       "    </tr>\n",
       "  </thead>\n",
       "  <tbody>\n",
       "    <tr>\n",
       "      <th>0</th>\n",
       "      <td>608.209302</td>\n",
       "      <td>671.418605</td>\n",
       "      <td>6.395349</td>\n",
       "      <td>5.302326</td>\n",
       "      <td>1.976744</td>\n",
       "      <td>1.819709e+10</td>\n",
       "    </tr>\n",
       "    <tr>\n",
       "      <th>1</th>\n",
       "      <td>210.288591</td>\n",
       "      <td>271.979866</td>\n",
       "      <td>4.825503</td>\n",
       "      <td>3.885906</td>\n",
       "      <td>2.020134</td>\n",
       "      <td>3.944489e+09</td>\n",
       "    </tr>\n",
       "    <tr>\n",
       "      <th>2</th>\n",
       "      <td>107.025862</td>\n",
       "      <td>109.862069</td>\n",
       "      <td>2.784483</td>\n",
       "      <td>1.905172</td>\n",
       "      <td>1.586207</td>\n",
       "      <td>1.501732e+09</td>\n",
       "    </tr>\n",
       "  </tbody>\n",
       "</table>\n",
       "</div>"
      ],
      "text/plain": [
       "         Luas Tanah (m2)  Luas Bangunan (m2)  Jumlah Kamar  \\\n",
       "Cluster                                                      \n",
       "0             608.209302          671.418605      6.395349   \n",
       "1             210.288591          271.979866      4.825503   \n",
       "2             107.025862          109.862069      2.784483   \n",
       "\n",
       "         Jumlah Kamar Mandi  Tingkat/Lantai   Harga Penawaran (dari Owner)  \n",
       "Cluster                                                                     \n",
       "0                  5.302326         1.976744                  1.819709e+10  \n",
       "1                  3.885906         2.020134                  3.944489e+09  \n",
       "2                  1.905172         1.586207                  1.501732e+09  "
      ]
     },
     "execution_count": 68,
     "metadata": {},
     "output_type": "execute_result"
    }
   ],
   "source": [
    "\n",
    "df.groupby(\"Cluster\")[\"Luas Tanah (m2)\", \"Luas Bangunan (m2)\", \"Jumlah Kamar\", \"Jumlah Kamar Mandi\", \"Tingkat/Lantai \" , \"Harga Penawaran (dari Owner)\"].agg(pd.Series.mean)"
   ]
  },
  {
   "cell_type": "code",
   "execution_count": 69,
   "metadata": {
    "colab": {
     "base_uri": "https://localhost:8080/",
     "height": 210
    },
    "executionInfo": {
     "elapsed": 351,
     "status": "ok",
     "timestamp": 1731495930210,
     "user": {
      "displayName": "Michelle Chandra",
      "userId": "11686912257500406197"
     },
     "user_tz": -420
    },
    "id": "zkHim7jnHmqC",
    "outputId": "59ca893e-5b8e-4d2f-f656-a96e23413b17"
   },
   "outputs": [
    {
     "data": {
      "text/plain": [
       "Cluster\n",
       "0     43\n",
       "1    149\n",
       "2    116\n",
       "Name: Cluster, dtype: int64"
      ]
     },
     "execution_count": 69,
     "metadata": {},
     "output_type": "execute_result"
    }
   ],
   "source": [
    "df.groupby(\"Cluster\")[\"Cluster\"].agg(pd.Series.count)"
   ]
  },
  {
   "cell_type": "markdown",
   "metadata": {
    "id": "OZruhWh5BSt7"
   },
   "source": [
    "## Hierarchical Clustering\n",
    "Hierarchical clustering uses the agglomerative method."
   ]
  },
  {
   "cell_type": "markdown",
   "metadata": {
    "id": "ie67vRUmJGiy"
   },
   "source": [
    "Plot the dendrogram to help determine the number of clusters, using the 'max' method."
   ]
  },
  {
   "cell_type": "code",
   "execution_count": 70,
   "metadata": {
    "colab": {
     "base_uri": "https://localhost:8080/",
     "height": 622
    },
    "executionInfo": {
     "elapsed": 4356,
     "status": "ok",
     "timestamp": 1731495958283,
     "user": {
      "displayName": "Michelle Chandra",
      "userId": "11686912257500406197"
     },
     "user_tz": -420
    },
    "id": "YYVplrU1JRLF",
    "outputId": "585815c8-249e-466f-fbb2-6c76e8f37453"
   },
   "outputs": [
    {
     "data": {
      "image/png": "[encoded data removed]",
      "text/plain": [
       "<Figure size 2000x700 with 1 Axes>"
      ]
     },
     "metadata": {},
     "output_type": "display_data"
    }
   ],
   "source": [
    "plt.figure(figsize=(20,7))\n",
    "linkage_data = linkage(scaled_data, method='complete')\n",
    "dendrogram(linkage_data)\n",
    "plt.show()"
   ]
  },
  {
   "cell_type": "markdown",
   "metadata": {
    "id": "JPMw9jAiJRsE"
   },
   "source": [
    "Perform hierarchical clustering with the Euclidean distance metric and set the number of clusters equal to the number of clusters from the K-Means model."
   ]
  },
  {
   "cell_type": "code",
   "execution_count": 71,
   "metadata": {
    "id": "-3Ep2nP0JYIw"
   },
   "outputs": [
    {
     "name": "stdout",
     "output_type": "stream",
     "text": [
      "[2 0 1 2 1 1 0 0 0 2 2 0 0 2 2 2 2 0 0 0 2 0 2 0 2 0 0 2 1 0 0 1 0 0 0 0 1\n",
      " 1 1 1 3 0 0 0 0 0 2 0 0 0 0 2 2 0 0 2 0 2 0 2 0 2 2 2 2 0 2 2 2 0 2 2 0 0\n",
      " 0 1 1 3 0 2 0 0 2 0 0 2 1 0 0 2 2 2 2 0 2 2 0 2 0 0 2 0 2 2 0 0 0 2 0 0 0\n",
      " 0 2 2 2 2 2 0 2 1 2 0 0 2 0 2 0 0 0 0 0 1 0 0 0 0 0 0 0 0 1 0 0 1 1 3 1 3\n",
      " 1 1 3 1 1 2 0 0 0 1 0 1 1 2 0 2 2 0 2 0 2 2 0 2 1 0 2 0 1 0 0 0 0 0 2 0 0\n",
      " 1 1 0 0 2 1 0 2 0 0 3 2 0 0 2 0 2 2 2 0 2 0 1 1 0 2 0 1 2 2 2 1 1 2 3 2 1\n",
      " 0 3 0 1 0 3 0 0 0 2 2 2 0 0 0 1 0 2 1 0 1 0 0 1 0 0 3 3 0 0 0 0 2 0 0 0 0\n",
      " 1 2 0 0 2 0 0 0 0 1 1 3 0 2 1 0 2 2 0 0 2 0 0 0 0 2 0 0 2 1 0 0 1 0 0 2 2\n",
      " 0 1 2 1 0 0 2 2 2 0 2 0]\n"
     ]
    },
    {
     "name": "stderr",
     "output_type": "stream",
     "text": [
      "c:\\Users\\Belinda\\anaconda3\\Lib\\site-packages\\sklearn\\cluster\\_agglomerative.py:1005: FutureWarning: Attribute `affinity` was deprecated in version 1.2 and will be removed in 1.4. Use `metric` instead\n",
      "  warnings.warn(\n"
     ]
    }
   ],
   "source": [
    "from sklearn.cluster import AgglomerativeClustering\n",
    "model = AgglomerativeClustering(n_clusters=4, affinity='euclidean')\n",
    "label = model.fit_predict(scaled_data)\n",
    "print(label)"
   ]
  },
  {
   "cell_type": "code",
   "execution_count": 72,
   "metadata": {},
   "outputs": [
    {
     "name": "stderr",
     "output_type": "stream",
     "text": [
      "c:\\Users\\Belinda\\anaconda3\\Lib\\site-packages\\sklearn\\cluster\\_agglomerative.py:1005: FutureWarning: Attribute `affinity` was deprecated in version 1.2 and will be removed in 1.4. Use `metric` instead\n",
      "  warnings.warn(\n"
     ]
    },
    {
     "data": {
      "text/html": [
       "<div>\n",
       "<style scoped>\n",
       "    .dataframe tbody tr th:only-of-type {\n",
       "        vertical-align: middle;\n",
       "    }\n",
       "\n",
       "    .dataframe tbody tr th {\n",
       "        vertical-align: top;\n",
       "    }\n",
       "\n",
       "    .dataframe thead th {\n",
       "        text-align: right;\n",
       "    }\n",
       "</style>\n",
       "<table border=\"1\" class=\"dataframe\">\n",
       "  <thead>\n",
       "    <tr style=\"text-align: right;\">\n",
       "      <th></th>\n",
       "      <th>Area Category</th>\n",
       "      <th>Luas Tanah (m2)</th>\n",
       "      <th>Luas Bangunan (m2)</th>\n",
       "      <th>Jumlah Kamar</th>\n",
       "      <th>Jumlah Kamar Mandi</th>\n",
       "      <th>Tingkat/Lantai</th>\n",
       "      <th>Harga Penawaran (dari Owner)</th>\n",
       "      <th>Terjual/Belum</th>\n",
       "      <th>Arah Hadap Rumah</th>\n",
       "      <th>Posisi Rumah</th>\n",
       "      <th>Lebar Jalan Depan Rumah (ROW)</th>\n",
       "      <th>Cluster</th>\n",
       "      <th>Agglomerative_Cluster</th>\n",
       "    </tr>\n",
       "  </thead>\n",
       "  <tbody>\n",
       "    <tr>\n",
       "      <th>0</th>\n",
       "      <td>3</td>\n",
       "      <td>240</td>\n",
       "      <td>300</td>\n",
       "      <td>4</td>\n",
       "      <td>3</td>\n",
       "      <td>2</td>\n",
       "      <td>3500000000</td>\n",
       "      <td>0</td>\n",
       "      <td>3</td>\n",
       "      <td>2</td>\n",
       "      <td>0</td>\n",
       "      <td>1</td>\n",
       "      <td>2</td>\n",
       "    </tr>\n",
       "    <tr>\n",
       "      <th>1</th>\n",
       "      <td>0</td>\n",
       "      <td>30</td>\n",
       "      <td>60</td>\n",
       "      <td>2</td>\n",
       "      <td>1</td>\n",
       "      <td>2</td>\n",
       "      <td>287799000</td>\n",
       "      <td>0</td>\n",
       "      <td>3</td>\n",
       "      <td>2</td>\n",
       "      <td>1</td>\n",
       "      <td>2</td>\n",
       "      <td>2</td>\n",
       "    </tr>\n",
       "    <tr>\n",
       "      <th>2</th>\n",
       "      <td>3</td>\n",
       "      <td>170</td>\n",
       "      <td>170</td>\n",
       "      <td>5</td>\n",
       "      <td>4</td>\n",
       "      <td>2</td>\n",
       "      <td>2699999999</td>\n",
       "      <td>0</td>\n",
       "      <td>1</td>\n",
       "      <td>0</td>\n",
       "      <td>0</td>\n",
       "      <td>1</td>\n",
       "      <td>2</td>\n",
       "    </tr>\n",
       "    <tr>\n",
       "      <th>3</th>\n",
       "      <td>2</td>\n",
       "      <td>187</td>\n",
       "      <td>250</td>\n",
       "      <td>5</td>\n",
       "      <td>5</td>\n",
       "      <td>2</td>\n",
       "      <td>3100000000</td>\n",
       "      <td>0</td>\n",
       "      <td>3</td>\n",
       "      <td>2</td>\n",
       "      <td>0</td>\n",
       "      <td>1</td>\n",
       "      <td>2</td>\n",
       "    </tr>\n",
       "    <tr>\n",
       "      <th>4</th>\n",
       "      <td>1</td>\n",
       "      <td>350</td>\n",
       "      <td>600</td>\n",
       "      <td>5</td>\n",
       "      <td>5</td>\n",
       "      <td>2</td>\n",
       "      <td>5000000000</td>\n",
       "      <td>0</td>\n",
       "      <td>0</td>\n",
       "      <td>2</td>\n",
       "      <td>0</td>\n",
       "      <td>1</td>\n",
       "      <td>2</td>\n",
       "    </tr>\n",
       "  </tbody>\n",
       "</table>\n",
       "</div>"
      ],
      "text/plain": [
       "   Area Category  Luas Tanah (m2)  Luas Bangunan (m2)  Jumlah Kamar  \\\n",
       "0              3              240                 300             4   \n",
       "1              0               30                  60             2   \n",
       "2              3              170                 170             5   \n",
       "3              2              187                 250             5   \n",
       "4              1              350                 600             5   \n",
       "\n",
       "   Jumlah Kamar Mandi  Tingkat/Lantai   Harga Penawaran (dari Owner)  \\\n",
       "0                   3                2                    3500000000   \n",
       "1                   1                2                     287799000   \n",
       "2                   4                2                    2699999999   \n",
       "3                   5                2                    3100000000   \n",
       "4                   5                2                    5000000000   \n",
       "\n",
       "   Terjual/Belum  Arah Hadap Rumah  Posisi Rumah  \\\n",
       "0              0                 3             2   \n",
       "1              0                 3             2   \n",
       "2              0                 1             0   \n",
       "3              0                 3             2   \n",
       "4              0                 0             2   \n",
       "\n",
       "   Lebar Jalan Depan Rumah (ROW)  Cluster  Agglomerative_Cluster  \n",
       "0                              0        1                      2  \n",
       "1                              1        2                      2  \n",
       "2                              0        1                      2  \n",
       "3                              0        1                      2  \n",
       "4                              0        1                      2  "
      ]
     },
     "execution_count": 72,
     "metadata": {},
     "output_type": "execute_result"
    }
   ],
   "source": [
    "agglomerative_model = AgglomerativeClustering(n_clusters=best_k, affinity='euclidean', linkage='ward')\n",
    "df['Agglomerative_Cluster'] = agglomerative_model.fit_predict(df)\n",
    "df.head()"
   ]
  },
  {
   "cell_type": "code",
   "execution_count": 73,
   "metadata": {},
   "outputs": [
    {
     "data": {
      "image/png": "[encoded data removed]",
      "text/plain": [
       "<Figure size 1000x700 with 1 Axes>"
      ]
     },
     "metadata": {},
     "output_type": "display_data"
    }
   ],
   "source": [
    "linked = linkage(df, method='ward')\n",
    "\n",
    "plt.figure(figsize=(10, 7))\n",
    "dendrogram(linked, orientation='top', distance_sort='descending', show_leaf_counts=True)\n",
    "plt.title('Agglomerative Clustering Dendogram')\n",
    "plt.xlabel('Sample Index')\n",
    "plt.ylabel('Distance')\n",
    "plt.axhline(y=7, color='r', linestyle='--')  # Optional: Add a horizontal line to indicate the cut-off for clusters\n",
    "plt.show()"
   ]
  },
  {
   "cell_type": "markdown",
   "metadata": {
    "id": "lzXuHhs1JY72"
   },
   "source": [
    "Display the cluster summary in the form of a dataframe with the same criteria as the previous summary"
   ]
  },
  {
   "cell_type": "code",
   "execution_count": 74,
   "metadata": {
    "colab": {
     "base_uri": "https://localhost:8080/",
     "height": 175
    },
    "executionInfo": {
     "elapsed": 352,
     "status": "ok",
     "timestamp": 1731496186125,
     "user": {
      "displayName": "Michelle Chandra",
      "userId": "11686912257500406197"
     },
     "user_tz": -420
    },
    "id": "7ZGhU79dNlXk",
    "outputId": "21e5fefc-ac85-43ba-9c01-9c9374363dfd"
   },
   "outputs": [
    {
     "name": "stderr",
     "output_type": "stream",
     "text": [
      "C:\\Users\\Belinda\\AppData\\Local\\Temp\\ipykernel_55436\\2546650094.py:2: FutureWarning: Indexing with multiple keys (implicitly converted to a tuple of keys) will be deprecated, use a list instead.\n",
      "  df.groupby(\"Cluster\")[\"Area Category\",\"Terjual/Belum\",\"Arah Hadap Rumah\", \"Posisi Rumah\", \"Lebar Jalan Depan Rumah (ROW)\"].agg(pd.Series.mode)\n"
     ]
    },
    {
     "data": {
      "text/html": [
       "<div>\n",
       "<style scoped>\n",
       "    .dataframe tbody tr th:only-of-type {\n",
       "        vertical-align: middle;\n",
       "    }\n",
       "\n",
       "    .dataframe tbody tr th {\n",
       "        vertical-align: top;\n",
       "    }\n",
       "\n",
       "    .dataframe thead th {\n",
       "        text-align: right;\n",
       "    }\n",
       "</style>\n",
       "<table border=\"1\" class=\"dataframe\">\n",
       "  <thead>\n",
       "    <tr style=\"text-align: right;\">\n",
       "      <th></th>\n",
       "      <th>Area Category</th>\n",
       "      <th>Terjual/Belum</th>\n",
       "      <th>Arah Hadap Rumah</th>\n",
       "      <th>Posisi Rumah</th>\n",
       "      <th>Lebar Jalan Depan Rumah (ROW)</th>\n",
       "    </tr>\n",
       "    <tr>\n",
       "      <th>Cluster</th>\n",
       "      <th></th>\n",
       "      <th></th>\n",
       "      <th></th>\n",
       "      <th></th>\n",
       "      <th></th>\n",
       "    </tr>\n",
       "  </thead>\n",
       "  <tbody>\n",
       "    <tr>\n",
       "      <th>0</th>\n",
       "      <td>[1, 2]</td>\n",
       "      <td>0</td>\n",
       "      <td>3</td>\n",
       "      <td>2</td>\n",
       "      <td>2</td>\n",
       "    </tr>\n",
       "    <tr>\n",
       "      <th>1</th>\n",
       "      <td>1</td>\n",
       "      <td>0</td>\n",
       "      <td>3</td>\n",
       "      <td>2</td>\n",
       "      <td>0</td>\n",
       "    </tr>\n",
       "    <tr>\n",
       "      <th>2</th>\n",
       "      <td>3</td>\n",
       "      <td>0</td>\n",
       "      <td>3</td>\n",
       "      <td>2</td>\n",
       "      <td>0</td>\n",
       "    </tr>\n",
       "  </tbody>\n",
       "</table>\n",
       "</div>"
      ],
      "text/plain": [
       "        Area Category  Terjual/Belum  Arah Hadap Rumah  Posisi Rumah  \\\n",
       "Cluster                                                                \n",
       "0              [1, 2]              0                 3             2   \n",
       "1                   1              0                 3             2   \n",
       "2                   3              0                 3             2   \n",
       "\n",
       "         Lebar Jalan Depan Rumah (ROW)  \n",
       "Cluster                                 \n",
       "0                                    2  \n",
       "1                                    0  \n",
       "2                                    0  "
      ]
     },
     "execution_count": 74,
     "metadata": {},
     "output_type": "execute_result"
    }
   ],
   "source": [
    "df[\"Agglo\"] = label\n",
    "df.groupby(\"Cluster\")[\"Area Category\",\"Terjual/Belum\",\"Arah Hadap Rumah\", \"Posisi Rumah\", \"Lebar Jalan Depan Rumah (ROW)\"].agg(pd.Series.mode)"
   ]
  },
  {
   "cell_type": "code",
   "execution_count": 75,
   "metadata": {
    "colab": {
     "base_uri": "https://localhost:8080/",
     "height": 175
    },
    "executionInfo": {
     "elapsed": 731,
     "status": "ok",
     "timestamp": 1731496187395,
     "user": {
      "displayName": "Michelle Chandra",
      "userId": "11686912257500406197"
     },
     "user_tz": -420
    },
    "id": "Dn8p_8sNNlXl",
    "outputId": "9d59e2f6-bf7e-41f0-ad22-940c3b7c48cf"
   },
   "outputs": [
    {
     "name": "stderr",
     "output_type": "stream",
     "text": [
      "C:\\Users\\Belinda\\AppData\\Local\\Temp\\ipykernel_55436\\224560258.py:1: FutureWarning: Indexing with multiple keys (implicitly converted to a tuple of keys) will be deprecated, use a list instead.\n",
      "  df.groupby(\"Agglo\")[\"Luas Tanah (m2)\", \"Luas Bangunan (m2)\", \"Jumlah Kamar\", \"Jumlah Kamar Mandi\", \"Tingkat/Lantai \" , \"Harga Penawaran (dari Owner)\"].agg(pd.Series.mean)\n"
     ]
    },
    {
     "data": {
      "text/html": [
       "<div>\n",
       "<style scoped>\n",
       "    .dataframe tbody tr th:only-of-type {\n",
       "        vertical-align: middle;\n",
       "    }\n",
       "\n",
       "    .dataframe tbody tr th {\n",
       "        vertical-align: top;\n",
       "    }\n",
       "\n",
       "    .dataframe thead th {\n",
       "        text-align: right;\n",
       "    }\n",
       "</style>\n",
       "<table border=\"1\" class=\"dataframe\">\n",
       "  <thead>\n",
       "    <tr style=\"text-align: right;\">\n",
       "      <th></th>\n",
       "      <th>Luas Tanah (m2)</th>\n",
       "      <th>Luas Bangunan (m2)</th>\n",
       "      <th>Jumlah Kamar</th>\n",
       "      <th>Jumlah Kamar Mandi</th>\n",
       "      <th>Tingkat/Lantai</th>\n",
       "      <th>Harga Penawaran (dari Owner)</th>\n",
       "    </tr>\n",
       "    <tr>\n",
       "      <th>Agglo</th>\n",
       "      <th></th>\n",
       "      <th></th>\n",
       "      <th></th>\n",
       "      <th></th>\n",
       "      <th></th>\n",
       "      <th></th>\n",
       "    </tr>\n",
       "  </thead>\n",
       "  <tbody>\n",
       "    <tr>\n",
       "      <th>0</th>\n",
       "      <td>170.124183</td>\n",
       "      <td>211.581699</td>\n",
       "      <td>4.117647</td>\n",
       "      <td>3.176471</td>\n",
       "      <td>1.908497</td>\n",
       "      <td>3.034323e+09</td>\n",
       "    </tr>\n",
       "    <tr>\n",
       "      <th>1</th>\n",
       "      <td>435.530612</td>\n",
       "      <td>554.469388</td>\n",
       "      <td>6.081633</td>\n",
       "      <td>5.142857</td>\n",
       "      <td>2.081633</td>\n",
       "      <td>1.039541e+10</td>\n",
       "    </tr>\n",
       "    <tr>\n",
       "      <th>2</th>\n",
       "      <td>126.404255</td>\n",
       "      <td>145.734043</td>\n",
       "      <td>3.329787</td>\n",
       "      <td>2.500000</td>\n",
       "      <td>1.680851</td>\n",
       "      <td>1.924239e+09</td>\n",
       "    </tr>\n",
       "    <tr>\n",
       "      <th>3</th>\n",
       "      <td>887.416667</td>\n",
       "      <td>741.666667</td>\n",
       "      <td>6.333333</td>\n",
       "      <td>4.583333</td>\n",
       "      <td>1.500000</td>\n",
       "      <td>3.249167e+10</td>\n",
       "    </tr>\n",
       "  </tbody>\n",
       "</table>\n",
       "</div>"
      ],
      "text/plain": [
       "       Luas Tanah (m2)  Luas Bangunan (m2)  Jumlah Kamar  Jumlah Kamar Mandi  \\\n",
       "Agglo                                                                          \n",
       "0           170.124183          211.581699      4.117647            3.176471   \n",
       "1           435.530612          554.469388      6.081633            5.142857   \n",
       "2           126.404255          145.734043      3.329787            2.500000   \n",
       "3           887.416667          741.666667      6.333333            4.583333   \n",
       "\n",
       "       Tingkat/Lantai   Harga Penawaran (dari Owner)  \n",
       "Agglo                                                 \n",
       "0             1.908497                  3.034323e+09  \n",
       "1             2.081633                  1.039541e+10  \n",
       "2             1.680851                  1.924239e+09  \n",
       "3             1.500000                  3.249167e+10  "
      ]
     },
     "execution_count": 75,
     "metadata": {},
     "output_type": "execute_result"
    }
   ],
   "source": [
    "df.groupby(\"Agglo\")[\"Luas Tanah (m2)\", \"Luas Bangunan (m2)\", \"Jumlah Kamar\", \"Jumlah Kamar Mandi\", \"Tingkat/Lantai \" , \"Harga Penawaran (dari Owner)\"].agg(pd.Series.mean)"
   ]
  },
  {
   "cell_type": "code",
   "execution_count": 76,
   "metadata": {
    "colab": {
     "base_uri": "https://localhost:8080/",
     "height": 210
    },
    "executionInfo": {
     "elapsed": 3,
     "status": "ok",
     "timestamp": 1731496187790,
     "user": {
      "displayName": "Michelle Chandra",
      "userId": "11686912257500406197"
     },
     "user_tz": -420
    },
    "id": "41xVNZP4IJIj",
    "outputId": "415aad8a-9fee-40ec-c4a4-cc909a413bdf"
   },
   "outputs": [
    {
     "data": {
      "text/plain": [
       "Agglo\n",
       "0    153\n",
       "1     49\n",
       "2     94\n",
       "3     12\n",
       "Name: Agglo, dtype: int64"
      ]
     },
     "execution_count": 76,
     "metadata": {},
     "output_type": "execute_result"
    }
   ],
   "source": [
    "df.groupby(\"Agglo\")[\"Agglo\"].agg(pd.Series.count)"
   ]
  },
  {
   "cell_type": "markdown",
   "metadata": {
    "id": "wU9hSggw_oQ1"
   },
   "source": [
    "**Hierarchical Visualization**"
   ]
  },
  {
   "cell_type": "markdown",
   "metadata": {
    "id": "6qpiPUi_qV19"
   },
   "source": [
    "Single Linkage"
   ]
  },
  {
   "cell_type": "code",
   "execution_count": 77,
   "metadata": {
    "colab": {
     "base_uri": "https://localhost:8080/",
     "height": 641
    },
    "executionInfo": {
     "elapsed": 4604,
     "status": "ok",
     "timestamp": 1731496240868,
     "user": {
      "displayName": "Michelle Chandra",
      "userId": "11686912257500406197"
     },
     "user_tz": -420
    },
    "id": "2r064c_9qLU9",
    "outputId": "d38fc84f-d1bc-405d-c0ff-1151dab5e7fa"
   },
   "outputs": [
    {
     "data": {
      "image/png": "[encoded data removed]",
      "text/plain": [
       "<Figure size 2000x700 with 1 Axes>"
      ]
     },
     "metadata": {},
     "output_type": "display_data"
    }
   ],
   "source": [
    "plt.figure(figsize=(20,7))\n",
    "linkage_data = linkage(scaled_data, method='single')\n",
    "dendrogram(linkage_data)\n",
    "plt.show()"
   ]
  },
  {
   "cell_type": "markdown",
   "metadata": {
    "id": "NLXusmjnqiKs"
   },
   "source": [
    "complete linkage"
   ]
  },
  {
   "cell_type": "code",
   "execution_count": 78,
   "metadata": {
    "colab": {
     "base_uri": "https://localhost:8080/",
     "height": 641
    },
    "executionInfo": {
     "elapsed": 3890,
     "status": "ok",
     "timestamp": 1731496244755,
     "user": {
      "displayName": "Michelle Chandra",
      "userId": "11686912257500406197"
     },
     "user_tz": -420
    },
    "id": "nY9cZ22PqmDv",
    "outputId": "df739661-5ab2-4742-8b40-52f05af73242"
   },
   "outputs": [
    {
     "data": {
      "image/png": "[encoded data removed]",
      "text/plain": [
       "<Figure size 2000x700 with 1 Axes>"
      ]
     },
     "metadata": {},
     "output_type": "display_data"
    }
   ],
   "source": [
    "plt.figure(figsize=(20,7))\n",
    "linkage_data = linkage(scaled_data, method='complete')\n",
    "dendrogram(linkage_data)\n",
    "plt.show()"
   ]
  },
  {
   "cell_type": "markdown",
   "metadata": {
    "id": "KTzdIUgBqxlv"
   },
   "source": [
    "average linkage"
   ]
  },
  {
   "cell_type": "code",
   "execution_count": 79,
   "metadata": {
    "colab": {
     "base_uri": "https://localhost:8080/",
     "height": 641
    },
    "executionInfo": {
     "elapsed": 5256,
     "status": "ok",
     "timestamp": 1731496252054,
     "user": {
      "displayName": "Michelle Chandra",
      "userId": "11686912257500406197"
     },
     "user_tz": -420
    },
    "id": "SDVKBXKxq12g",
    "outputId": "5312efd0-9963-4f6c-b465-cdcc4f73e17b"
   },
   "outputs": [
    {
     "data": {
      "image/png": "[encoded data removed]",
      "text/plain": [
       "<Figure size 2000x700 with 1 Axes>"
      ]
     },
     "metadata": {},
     "output_type": "display_data"
    }
   ],
   "source": [
    "plt.figure(figsize=(20,7))\n",
    "linkage_data = linkage(scaled_data, method='average')\n",
    "dendrogram(linkage_data)\n",
    "plt.show()"
   ]
  },
  {
   "cell_type": "markdown",
   "metadata": {
    "id": "Dh9oOv59q9E5"
   },
   "source": [
    "ward linkage"
   ]
  },
  {
   "cell_type": "code",
   "execution_count": 80,
   "metadata": {
    "colab": {
     "base_uri": "https://localhost:8080/",
     "height": 641
    },
    "executionInfo": {
     "elapsed": 5098,
     "status": "ok",
     "timestamp": 1731496257150,
     "user": {
      "displayName": "Michelle Chandra",
      "userId": "11686912257500406197"
     },
     "user_tz": -420
    },
    "id": "6315xN-arAp9",
    "outputId": "aa3ee2c4-dc56-4b7d-faca-571c5f5cd858"
   },
   "outputs": [
    {
     "data": {
      "image/png": "[encoded data removed]",
      "text/plain": [
       "<Figure size 2000x700 with 1 Axes>"
      ]
     },
     "metadata": {},
     "output_type": "display_data"
    }
   ],
   "source": [
    "plt.figure(figsize=(20,7))\n",
    "linkage_data = linkage(scaled_data, method='ward')\n",
    "dendrogram(linkage_data)\n",
    "plt.show()"
   ]
  }
 ],
 "metadata": {
  "colab": {
   "authorship_tag": "ABX9TyMqb/ZBky+UGltak2iYKBGD",
   "provenance": []
  },
  "kernelspec": {
   "display_name": "base",
   "language": "python",
   "name": "python3"
  },
  "language_info": {
   "codemirror_mode": {
    "name": "ipython",
    "version": 3
   },
   "file_extension": ".py",
   "mimetype": "text/x-python",
   "name": "python",
   "nbconvert_exporter": "python",
   "pygments_lexer": "ipython3",
   "version": "3.11.4"
  }
 },
 "nbformat": 4,
 "nbformat_minor": 0
}
